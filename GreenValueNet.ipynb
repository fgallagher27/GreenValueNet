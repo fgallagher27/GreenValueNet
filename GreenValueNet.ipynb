{
 "cells": [
  {
   "cell_type": "markdown",
   "metadata": {},
   "source": [
    "# GreenValueNet\n",
    "\n",
    "This notebook contains the code needed to execute the GreenValueNet hedonic pricing neural network. "
   ]
  },
  {
   "cell_type": "markdown",
   "metadata": {},
   "source": [
    "### Set up and data loading"
   ]
  },
  {
   "cell_type": "code",
   "execution_count": 1,
   "metadata": {},
   "outputs": [
    {
     "name": "stderr",
     "output_type": "stream",
     "text": [
      "c:\\Python310\\lib\\site-packages\\scipy\\__init__.py:146: UserWarning: A NumPy version >=1.16.5 and <1.23.0 is required for this version of SciPy (detected version 1.26.2\n",
      "  warnings.warn(f\"A NumPy version >={np_minversion} and <{np_maxversion}\"\n"
     ]
    },
    {
     "name": "stdout",
     "output_type": "stream",
     "text": [
      "WARNING:tensorflow:From c:\\Python310\\lib\\site-packages\\keras\\src\\losses.py:2976: The name tf.losses.sparse_softmax_cross_entropy is deprecated. Please use tf.compat.v1.losses.sparse_softmax_cross_entropy instead.\n",
      "\n"
     ]
    }
   ],
   "source": [
    "import joblib\n",
    "import matplotlib.pyplot as plt\n",
    "from pathlib import Path\n",
    "from sklearn.metrics import mean_squared_error\n",
    "from data_load_funcs import get_params, load_data_catalogue\n",
    "from processing_funcs import process_data, normalise_values\n",
    "from model_funcs import *\n",
    "\n",
    "cwd = Path.cwd()\n",
    "params = get_params()\n",
    "data_catalogue = load_data_catalogue()"
   ]
  },
  {
   "cell_type": "markdown",
   "metadata": {},
   "source": [
    "If you do not have a file called `dataset.csv` in the `data/interim_files` folder the following cell will generate this folder and generate summary statistics. The data processing happens locally and invovles large datasets with spatial components so can take quite several hours - please be pateint! If you already have the file, it will be read in and summary statistics are generated. "
   ]
  },
  {
   "cell_type": "code",
   "execution_count": 4,
   "metadata": {},
   "outputs": [
    {
     "name": "stdout",
     "output_type": "stream",
     "text": [
      "                                  Mean    Std Dev       Maximum   Minimum\n",
      "ln_price                     12.380537   0.671172     17.600118  0.133949\n",
      "propertytype                  1.312324   1.083203      3.000000  0.000000\n",
      "oldnew                        0.122618   0.327998      1.000000  0.000000\n",
      "duration                      0.323910   0.468001      2.000000  0.000000\n",
      "current_energy_efficiency    61.022291  12.291185    162.000000  0.000000\n",
      "potential_energy_efficiency   0.805091   0.141672     70.000000  0.000000\n",
      "total_floor_area             90.492569  80.334532  60506.700000  0.000000\n",
      "extension_count               0.488239   0.733135      4.000000  0.000000\n",
      "number_habitable_rooms        4.476421   1.731979    100.000000  0.000000\n",
      "number_heated_rooms           4.394302   1.731866    100.000000  0.000000\n",
      "construction_age_band         4.860699   3.503979     12.000000 -1.000000\n",
      "coastline_dist               60.345059  37.749882    135.732016  0.004453\n",
      "prim_school_dist              0.790663   0.665859     19.868981  0.000000\n",
      "sec_school_dist               2.229734   2.277488     38.699688  0.000000\n",
      "roads_dist                   20.683921  28.361631    205.721758  0.036097\n",
      "nat_park_dist                82.702302  45.702797    192.706041  0.000000\n",
      "nat_trust_dist               22.330666  20.104256    142.965575  0.000000\n",
      "ttwa_dist                     0.000141   0.005279      0.567089  0.000000\n",
      "dom_builds_share              0.075897   0.053293      0.311189  0.000168\n",
      "garden_share                  0.212902   0.133314      0.628869  0.000482\n",
      "non_dom_builds_share          0.038146   0.041584      0.421751  0.000082\n",
      "path_share                    0.007137   0.006603      0.070791  0.000003\n",
      "greenspace_share              0.465566   0.269084      0.987128  0.012036\n",
      "water_share                   0.027752   0.081439      0.871968  0.000000\n"
     ]
    }
   ],
   "source": [
    "dataset = process_data(data_catalogue, params)\n",
    "\n",
    "# show summary stats\n",
    "summary_stats = dataset.describe().transpose()[['mean', 'std', 'max', 'min']]\n",
    "summary_stats.columns = ['Mean', 'Std Dev', 'Maximum', 'Minimum']\n",
    "print(summary_stats)"
   ]
  },
  {
   "cell_type": "markdown",
   "metadata": {},
   "source": [
    "Now we normalise any non-encoded variables to increase speed of learning of algorithm and convert the dataset to an array of inputs, and an associated output array."
   ]
  },
  {
   "cell_type": "code",
   "execution_count": 5,
   "metadata": {},
   "outputs": [],
   "source": [
    "norm_cols = [col for col in dataset.columns if col not in params['non_norm_cols']]\n",
    "for col in norm_cols:\n",
    "    dataset[col] = normalise_values(dataset[col])\n",
    "\n",
    "# creates an arry of shape m, x, y\n",
    "x, y, derivative_index = create_x_y_arr(dataset, params)"
   ]
  },
  {
   "cell_type": "markdown",
   "metadata": {},
   "source": [
    "The dataset is then split into train, dev and test sets using sci-kit learn."
   ]
  },
  {
   "cell_type": "code",
   "execution_count": 6,
   "metadata": {},
   "outputs": [],
   "source": [
    "x_train, x_dev, x_test, y_train, y_dev, y_test = split_to_test_dev_train(\n",
    "    x,\n",
    "    y,\n",
    "    params['dev_size'],\n",
    "    params['test_size'],\n",
    "    prop=False\n",
    ")"
   ]
  },
  {
   "cell_type": "markdown",
   "metadata": {},
   "source": [
    "## Benchmarking\n",
    "\n",
    "To evaluate the performance of my neural network I will run random forest and XGBoost regressions as baseline models. I will then build 2 alternative models: a deep neural network and a bayesian model. We optimise based on the mean squared error (MSE) but and report this as our measure of performance."
   ]
  },
  {
   "cell_type": "markdown",
   "metadata": {},
   "source": [
    "### Random Forest\n"
   ]
  },
  {
   "cell_type": "code",
   "execution_count": 18,
   "metadata": {},
   "outputs": [],
   "source": [
    "# run baseline random forest regression using scikit-learn\n",
    "# rfr_model = random_forest_reg(\n",
    "#     x_train,\n",
    "#     y_train,\n",
    "#     tuning=False\n",
    "# )\n",
    "\n",
    "# now run with grid search to tune parameters\n",
    "rfr_tuned  =  random_forest_reg(\n",
    "    x_train,\n",
    "    y_train,\n",
    "    tuning=True,\n",
    "    tuning_params = params['tuning_dict']['grid']\n",
    ")\n",
    "\n",
    "# generate predictions and measure according to mean squared error\n",
    "# rfr_pred, rfr_mse = generate_pred_metric(rfr_model, mean_squared_error, x_dev, y_dev)\n",
    "rfr_t_pred, rfr_t_mse = generate_pred_metric(rfr_tuned, mean_squared_error, x_dev, y_dev)"
   ]
  },
  {
   "cell_type": "markdown",
   "metadata": {},
   "source": [
    "### XGBoost"
   ]
  },
  {
   "cell_type": "code",
   "execution_count": 8,
   "metadata": {},
   "outputs": [],
   "source": [
    "xgb_model = boosted_grad_reg(x_train, y_train)\n",
    "xgb_pred, xgb_mse = generate_pred_metric(xgb_model, mean_squared_error, x_dev, y_dev)"
   ]
  },
  {
   "cell_type": "markdown",
   "metadata": {},
   "source": [
    "## Neural networks\n",
    "\n",
    "We know build some neural networks. Number of epochs, hidden layers, and nodes in hidden layers is initially set with rules of thumb but then optimiszed using hyperparameter tuning."
   ]
  },
  {
   "cell_type": "code",
   "execution_count": 9,
   "metadata": {},
   "outputs": [],
   "source": [
    "# set epochs to be 3 times number of features\n",
    "epochs = int(x_train.shape[1]) * 3\n",
    "\n",
    "# set n_hidden_units to be mean of input and output layer sizes\n",
    "n_hidden_units = round((x_train.shape[1] + 1) / 2)"
   ]
  },
  {
   "cell_type": "markdown",
   "metadata": {},
   "source": [
    "### Single Layer Neural Network\n",
    "\n",
    "A single hidden layer with ReLU activation is used with a linear output layer."
   ]
  },
  {
   "cell_type": "code",
   "execution_count": null,
   "metadata": {},
   "outputs": [
    {
     "name": "stdout",
     "output_type": "stream",
     "text": [
      "Epoch 1/69\n",
      "  6649/196019 [>.............................] - ETA: 5:26 - loss: 5.4812 - mean_squared_error: 5.4812"
     ]
    },
    {
     "ename": "KeyboardInterrupt",
     "evalue": "",
     "output_type": "error",
     "traceback": [
      "\u001b[1;31m---------------------------------------------------------------------------\u001b[0m",
      "\u001b[1;31mKeyboardInterrupt\u001b[0m                         Traceback (most recent call last)",
      "\u001b[1;32mc:\\GitHub personal\\GreenValueNet\\GreenValueNet.ipynb Cell 18\u001b[0m line \u001b[0;36m1\n\u001b[1;32m----> <a href='vscode-notebook-cell:/c%3A/GitHub%20personal/GreenValueNet/GreenValueNet.ipynb#Y132sZmlsZQ%3D%3D?line=0'>1</a>\u001b[0m single_nn \u001b[39m=\u001b[39m neural_net(\n\u001b[0;32m      <a href='vscode-notebook-cell:/c%3A/GitHub%20personal/GreenValueNet/GreenValueNet.ipynb#Y132sZmlsZQ%3D%3D?line=1'>2</a>\u001b[0m     x_train,\n\u001b[0;32m      <a href='vscode-notebook-cell:/c%3A/GitHub%20personal/GreenValueNet/GreenValueNet.ipynb#Y132sZmlsZQ%3D%3D?line=2'>3</a>\u001b[0m     y_train,\n\u001b[0;32m      <a href='vscode-notebook-cell:/c%3A/GitHub%20personal/GreenValueNet/GreenValueNet.ipynb#Y132sZmlsZQ%3D%3D?line=3'>4</a>\u001b[0m     learning_rate \u001b[39m=\u001b[39;49m \u001b[39m0.001\u001b[39;49m,\n\u001b[0;32m      <a href='vscode-notebook-cell:/c%3A/GitHub%20personal/GreenValueNet/GreenValueNet.ipynb#Y132sZmlsZQ%3D%3D?line=4'>5</a>\u001b[0m     n_hidden_units \u001b[39m=\u001b[39;49m n_hidden_units,\n\u001b[0;32m      <a href='vscode-notebook-cell:/c%3A/GitHub%20personal/GreenValueNet/GreenValueNet.ipynb#Y132sZmlsZQ%3D%3D?line=5'>6</a>\u001b[0m     epochs \u001b[39m=\u001b[39;49m epochs,\n\u001b[0;32m      <a href='vscode-notebook-cell:/c%3A/GitHub%20personal/GreenValueNet/GreenValueNet.ipynb#Y132sZmlsZQ%3D%3D?line=6'>7</a>\u001b[0m     validation_data \u001b[39m=\u001b[39;49m (x_dev, y_dev)\n\u001b[0;32m      <a href='vscode-notebook-cell:/c%3A/GitHub%20personal/GreenValueNet/GreenValueNet.ipynb#Y132sZmlsZQ%3D%3D?line=7'>8</a>\u001b[0m )\n",
      "File \u001b[1;32mc:\\GitHub personal\\GreenValueNet\\model_funcs.py:141\u001b[0m, in \u001b[0;36mneural_net\u001b[1;34m(x_train, y_train, n_hidden_units, n_layers, learning_rate, batch_size, epochs, hidden_activation, output_activation, loss, **kwargs)\u001b[0m\n\u001b[0;32m    134\u001b[0m model\u001b[39m.\u001b[39madd(layers\u001b[39m.\u001b[39mDense(units\u001b[39m=\u001b[39m\u001b[39m1\u001b[39m, activation\u001b[39m=\u001b[39moutput_activation))\n\u001b[0;32m    136\u001b[0m model\u001b[39m.\u001b[39mcompile(\n\u001b[0;32m    137\u001b[0m     optimizer\u001b[39m=\u001b[39mtf\u001b[39m.\u001b[39m_optimizers\u001b[39m.\u001b[39mAdam(learning_rate\u001b[39m=\u001b[39mlearning_rate),\n\u001b[0;32m    138\u001b[0m     loss\u001b[39m=\u001b[39mloss,\n\u001b[0;32m    139\u001b[0m     metrics\u001b[39m=\u001b[39m[loss]\n\u001b[0;32m    140\u001b[0m )\n\u001b[1;32m--> 141\u001b[0m model\u001b[39m.\u001b[39mfit(x_train, y_train, epochs\u001b[39m=\u001b[39mepochs, batch_size\u001b[39m=\u001b[39mbatch_size, \u001b[39m*\u001b[39m\u001b[39m*\u001b[39mkwargs) \n\u001b[0;32m    143\u001b[0m \u001b[39mreturn\u001b[39;00m model\n",
      "File \u001b[1;32mc:\\Python310\\lib\\site-packages\\keras\\src\\utils\\traceback_utils.py:65\u001b[0m, in \u001b[0;36mfilter_traceback.<locals>.error_handler\u001b[1;34m(*args, **kwargs)\u001b[0m\n\u001b[0;32m     63\u001b[0m filtered_tb \u001b[39m=\u001b[39m \u001b[39mNone\u001b[39;00m\n\u001b[0;32m     64\u001b[0m \u001b[39mtry\u001b[39;00m:\n\u001b[1;32m---> 65\u001b[0m     \u001b[39mreturn\u001b[39;00m fn(\u001b[39m*\u001b[39margs, \u001b[39m*\u001b[39m\u001b[39m*\u001b[39mkwargs)\n\u001b[0;32m     66\u001b[0m \u001b[39mexcept\u001b[39;00m \u001b[39mException\u001b[39;00m \u001b[39mas\u001b[39;00m e:\n\u001b[0;32m     67\u001b[0m     filtered_tb \u001b[39m=\u001b[39m _process_traceback_frames(e\u001b[39m.\u001b[39m__traceback__)\n",
      "File \u001b[1;32mc:\\Python310\\lib\\site-packages\\keras\\src\\engine\\training.py:1807\u001b[0m, in \u001b[0;36mModel.fit\u001b[1;34m(self, x, y, batch_size, epochs, verbose, callbacks, validation_split, validation_data, shuffle, class_weight, sample_weight, initial_epoch, steps_per_epoch, validation_steps, validation_batch_size, validation_freq, max_queue_size, workers, use_multiprocessing)\u001b[0m\n\u001b[0;32m   1799\u001b[0m \u001b[39mwith\u001b[39;00m tf\u001b[39m.\u001b[39mprofiler\u001b[39m.\u001b[39mexperimental\u001b[39m.\u001b[39mTrace(\n\u001b[0;32m   1800\u001b[0m     \u001b[39m\"\u001b[39m\u001b[39mtrain\u001b[39m\u001b[39m\"\u001b[39m,\n\u001b[0;32m   1801\u001b[0m     epoch_num\u001b[39m=\u001b[39mepoch,\n\u001b[1;32m   (...)\u001b[0m\n\u001b[0;32m   1804\u001b[0m     _r\u001b[39m=\u001b[39m\u001b[39m1\u001b[39m,\n\u001b[0;32m   1805\u001b[0m ):\n\u001b[0;32m   1806\u001b[0m     callbacks\u001b[39m.\u001b[39mon_train_batch_begin(step)\n\u001b[1;32m-> 1807\u001b[0m     tmp_logs \u001b[39m=\u001b[39m \u001b[39mself\u001b[39;49m\u001b[39m.\u001b[39;49mtrain_function(iterator)\n\u001b[0;32m   1808\u001b[0m     \u001b[39mif\u001b[39;00m data_handler\u001b[39m.\u001b[39mshould_sync:\n\u001b[0;32m   1809\u001b[0m         context\u001b[39m.\u001b[39masync_wait()\n",
      "File \u001b[1;32mc:\\Python310\\lib\\site-packages\\tensorflow\\python\\util\\traceback_utils.py:150\u001b[0m, in \u001b[0;36mfilter_traceback.<locals>.error_handler\u001b[1;34m(*args, **kwargs)\u001b[0m\n\u001b[0;32m    148\u001b[0m filtered_tb \u001b[39m=\u001b[39m \u001b[39mNone\u001b[39;00m\n\u001b[0;32m    149\u001b[0m \u001b[39mtry\u001b[39;00m:\n\u001b[1;32m--> 150\u001b[0m   \u001b[39mreturn\u001b[39;00m fn(\u001b[39m*\u001b[39margs, \u001b[39m*\u001b[39m\u001b[39m*\u001b[39mkwargs)\n\u001b[0;32m    151\u001b[0m \u001b[39mexcept\u001b[39;00m \u001b[39mException\u001b[39;00m \u001b[39mas\u001b[39;00m e:\n\u001b[0;32m    152\u001b[0m   filtered_tb \u001b[39m=\u001b[39m _process_traceback_frames(e\u001b[39m.\u001b[39m__traceback__)\n",
      "File \u001b[1;32mc:\\Python310\\lib\\site-packages\\tensorflow\\python\\eager\\polymorphic_function\\polymorphic_function.py:832\u001b[0m, in \u001b[0;36mFunction.__call__\u001b[1;34m(self, *args, **kwds)\u001b[0m\n\u001b[0;32m    829\u001b[0m compiler \u001b[39m=\u001b[39m \u001b[39m\"\u001b[39m\u001b[39mxla\u001b[39m\u001b[39m\"\u001b[39m \u001b[39mif\u001b[39;00m \u001b[39mself\u001b[39m\u001b[39m.\u001b[39m_jit_compile \u001b[39melse\u001b[39;00m \u001b[39m\"\u001b[39m\u001b[39mnonXla\u001b[39m\u001b[39m\"\u001b[39m\n\u001b[0;32m    831\u001b[0m \u001b[39mwith\u001b[39;00m OptionalXlaContext(\u001b[39mself\u001b[39m\u001b[39m.\u001b[39m_jit_compile):\n\u001b[1;32m--> 832\u001b[0m   result \u001b[39m=\u001b[39m \u001b[39mself\u001b[39m\u001b[39m.\u001b[39m_call(\u001b[39m*\u001b[39margs, \u001b[39m*\u001b[39m\u001b[39m*\u001b[39mkwds)\n\u001b[0;32m    834\u001b[0m new_tracing_count \u001b[39m=\u001b[39m \u001b[39mself\u001b[39m\u001b[39m.\u001b[39mexperimental_get_tracing_count()\n\u001b[0;32m    835\u001b[0m without_tracing \u001b[39m=\u001b[39m (tracing_count \u001b[39m==\u001b[39m new_tracing_count)\n",
      "File \u001b[1;32mc:\\Python310\\lib\\site-packages\\tensorflow\\python\\eager\\polymorphic_function\\polymorphic_function.py:868\u001b[0m, in \u001b[0;36mFunction._call\u001b[1;34m(self, *args, **kwds)\u001b[0m\n\u001b[0;32m    865\u001b[0m   \u001b[39mself\u001b[39m\u001b[39m.\u001b[39m_lock\u001b[39m.\u001b[39mrelease()\n\u001b[0;32m    866\u001b[0m   \u001b[39m# In this case we have created variables on the first call, so we run the\u001b[39;00m\n\u001b[0;32m    867\u001b[0m   \u001b[39m# defunned version which is guaranteed to never create variables.\u001b[39;00m\n\u001b[1;32m--> 868\u001b[0m   \u001b[39mreturn\u001b[39;00m tracing_compilation\u001b[39m.\u001b[39;49mcall_function(\n\u001b[0;32m    869\u001b[0m       args, kwds, \u001b[39mself\u001b[39;49m\u001b[39m.\u001b[39;49m_no_variable_creation_config\n\u001b[0;32m    870\u001b[0m   )\n\u001b[0;32m    871\u001b[0m \u001b[39melif\u001b[39;00m \u001b[39mself\u001b[39m\u001b[39m.\u001b[39m_variable_creation_config \u001b[39mis\u001b[39;00m \u001b[39mnot\u001b[39;00m \u001b[39mNone\u001b[39;00m:\n\u001b[0;32m    872\u001b[0m   \u001b[39m# Release the lock early so that multiple threads can perform the call\u001b[39;00m\n\u001b[0;32m    873\u001b[0m   \u001b[39m# in parallel.\u001b[39;00m\n\u001b[0;32m    874\u001b[0m   \u001b[39mself\u001b[39m\u001b[39m.\u001b[39m_lock\u001b[39m.\u001b[39mrelease()\n",
      "File \u001b[1;32mc:\\Python310\\lib\\site-packages\\tensorflow\\python\\eager\\polymorphic_function\\tracing_compilation.py:139\u001b[0m, in \u001b[0;36mcall_function\u001b[1;34m(args, kwargs, tracing_options)\u001b[0m\n\u001b[0;32m    137\u001b[0m bound_args \u001b[39m=\u001b[39m function\u001b[39m.\u001b[39mfunction_type\u001b[39m.\u001b[39mbind(\u001b[39m*\u001b[39margs, \u001b[39m*\u001b[39m\u001b[39m*\u001b[39mkwargs)\n\u001b[0;32m    138\u001b[0m flat_inputs \u001b[39m=\u001b[39m function\u001b[39m.\u001b[39mfunction_type\u001b[39m.\u001b[39munpack_inputs(bound_args)\n\u001b[1;32m--> 139\u001b[0m \u001b[39mreturn\u001b[39;00m function\u001b[39m.\u001b[39;49m_call_flat(  \u001b[39m# pylint: disable=protected-access\u001b[39;49;00m\n\u001b[0;32m    140\u001b[0m     flat_inputs, captured_inputs\u001b[39m=\u001b[39;49mfunction\u001b[39m.\u001b[39;49mcaptured_inputs\n\u001b[0;32m    141\u001b[0m )\n",
      "File \u001b[1;32mc:\\Python310\\lib\\site-packages\\tensorflow\\python\\eager\\polymorphic_function\\concrete_function.py:1323\u001b[0m, in \u001b[0;36mConcreteFunction._call_flat\u001b[1;34m(self, tensor_inputs, captured_inputs)\u001b[0m\n\u001b[0;32m   1319\u001b[0m possible_gradient_type \u001b[39m=\u001b[39m gradients_util\u001b[39m.\u001b[39mPossibleTapeGradientTypes(args)\n\u001b[0;32m   1320\u001b[0m \u001b[39mif\u001b[39;00m (possible_gradient_type \u001b[39m==\u001b[39m gradients_util\u001b[39m.\u001b[39mPOSSIBLE_GRADIENT_TYPES_NONE\n\u001b[0;32m   1321\u001b[0m     \u001b[39mand\u001b[39;00m executing_eagerly):\n\u001b[0;32m   1322\u001b[0m   \u001b[39m# No tape is watching; skip to running the function.\u001b[39;00m\n\u001b[1;32m-> 1323\u001b[0m   \u001b[39mreturn\u001b[39;00m \u001b[39mself\u001b[39;49m\u001b[39m.\u001b[39;49m_inference_function\u001b[39m.\u001b[39;49mcall_preflattened(args)\n\u001b[0;32m   1324\u001b[0m forward_backward \u001b[39m=\u001b[39m \u001b[39mself\u001b[39m\u001b[39m.\u001b[39m_select_forward_and_backward_functions(\n\u001b[0;32m   1325\u001b[0m     args,\n\u001b[0;32m   1326\u001b[0m     possible_gradient_type,\n\u001b[0;32m   1327\u001b[0m     executing_eagerly)\n\u001b[0;32m   1328\u001b[0m forward_function, args_with_tangents \u001b[39m=\u001b[39m forward_backward\u001b[39m.\u001b[39mforward()\n",
      "File \u001b[1;32mc:\\Python310\\lib\\site-packages\\tensorflow\\python\\eager\\polymorphic_function\\atomic_function.py:216\u001b[0m, in \u001b[0;36mAtomicFunction.call_preflattened\u001b[1;34m(self, args)\u001b[0m\n\u001b[0;32m    214\u001b[0m \u001b[39mdef\u001b[39;00m \u001b[39mcall_preflattened\u001b[39m(\u001b[39mself\u001b[39m, args: Sequence[core\u001b[39m.\u001b[39mTensor]) \u001b[39m-\u001b[39m\u001b[39m>\u001b[39m Any:\n\u001b[0;32m    215\u001b[0m \u001b[39m  \u001b[39m\u001b[39m\"\"\"Calls with flattened tensor inputs and returns the structured output.\"\"\"\u001b[39;00m\n\u001b[1;32m--> 216\u001b[0m   flat_outputs \u001b[39m=\u001b[39m \u001b[39mself\u001b[39;49m\u001b[39m.\u001b[39;49mcall_flat(\u001b[39m*\u001b[39;49margs)\n\u001b[0;32m    217\u001b[0m   \u001b[39mreturn\u001b[39;00m \u001b[39mself\u001b[39m\u001b[39m.\u001b[39mfunction_type\u001b[39m.\u001b[39mpack_output(flat_outputs)\n",
      "File \u001b[1;32mc:\\Python310\\lib\\site-packages\\tensorflow\\python\\eager\\polymorphic_function\\atomic_function.py:251\u001b[0m, in \u001b[0;36mAtomicFunction.call_flat\u001b[1;34m(self, *args)\u001b[0m\n\u001b[0;32m    249\u001b[0m \u001b[39mwith\u001b[39;00m record\u001b[39m.\u001b[39mstop_recording():\n\u001b[0;32m    250\u001b[0m   \u001b[39mif\u001b[39;00m \u001b[39mself\u001b[39m\u001b[39m.\u001b[39m_bound_context\u001b[39m.\u001b[39mexecuting_eagerly():\n\u001b[1;32m--> 251\u001b[0m     outputs \u001b[39m=\u001b[39m \u001b[39mself\u001b[39;49m\u001b[39m.\u001b[39;49m_bound_context\u001b[39m.\u001b[39;49mcall_function(\n\u001b[0;32m    252\u001b[0m         \u001b[39mself\u001b[39;49m\u001b[39m.\u001b[39;49mname,\n\u001b[0;32m    253\u001b[0m         \u001b[39mlist\u001b[39;49m(args),\n\u001b[0;32m    254\u001b[0m         \u001b[39mlen\u001b[39;49m(\u001b[39mself\u001b[39;49m\u001b[39m.\u001b[39;49mfunction_type\u001b[39m.\u001b[39;49mflat_outputs),\n\u001b[0;32m    255\u001b[0m     )\n\u001b[0;32m    256\u001b[0m   \u001b[39melse\u001b[39;00m:\n\u001b[0;32m    257\u001b[0m     outputs \u001b[39m=\u001b[39m make_call_op_in_graph(\n\u001b[0;32m    258\u001b[0m         \u001b[39mself\u001b[39m,\n\u001b[0;32m    259\u001b[0m         \u001b[39mlist\u001b[39m(args),\n\u001b[0;32m    260\u001b[0m         \u001b[39mself\u001b[39m\u001b[39m.\u001b[39m_bound_context\u001b[39m.\u001b[39mfunction_call_options\u001b[39m.\u001b[39mas_attrs(),\n\u001b[0;32m    261\u001b[0m     )\n",
      "File \u001b[1;32mc:\\Python310\\lib\\site-packages\\tensorflow\\python\\eager\\context.py:1486\u001b[0m, in \u001b[0;36mContext.call_function\u001b[1;34m(self, name, tensor_inputs, num_outputs)\u001b[0m\n\u001b[0;32m   1484\u001b[0m cancellation_context \u001b[39m=\u001b[39m cancellation\u001b[39m.\u001b[39mcontext()\n\u001b[0;32m   1485\u001b[0m \u001b[39mif\u001b[39;00m cancellation_context \u001b[39mis\u001b[39;00m \u001b[39mNone\u001b[39;00m:\n\u001b[1;32m-> 1486\u001b[0m   outputs \u001b[39m=\u001b[39m execute\u001b[39m.\u001b[39;49mexecute(\n\u001b[0;32m   1487\u001b[0m       name\u001b[39m.\u001b[39;49mdecode(\u001b[39m\"\u001b[39;49m\u001b[39mutf-8\u001b[39;49m\u001b[39m\"\u001b[39;49m),\n\u001b[0;32m   1488\u001b[0m       num_outputs\u001b[39m=\u001b[39;49mnum_outputs,\n\u001b[0;32m   1489\u001b[0m       inputs\u001b[39m=\u001b[39;49mtensor_inputs,\n\u001b[0;32m   1490\u001b[0m       attrs\u001b[39m=\u001b[39;49mattrs,\n\u001b[0;32m   1491\u001b[0m       ctx\u001b[39m=\u001b[39;49m\u001b[39mself\u001b[39;49m,\n\u001b[0;32m   1492\u001b[0m   )\n\u001b[0;32m   1493\u001b[0m \u001b[39melse\u001b[39;00m:\n\u001b[0;32m   1494\u001b[0m   outputs \u001b[39m=\u001b[39m execute\u001b[39m.\u001b[39mexecute_with_cancellation(\n\u001b[0;32m   1495\u001b[0m       name\u001b[39m.\u001b[39mdecode(\u001b[39m\"\u001b[39m\u001b[39mutf-8\u001b[39m\u001b[39m\"\u001b[39m),\n\u001b[0;32m   1496\u001b[0m       num_outputs\u001b[39m=\u001b[39mnum_outputs,\n\u001b[1;32m   (...)\u001b[0m\n\u001b[0;32m   1500\u001b[0m       cancellation_manager\u001b[39m=\u001b[39mcancellation_context,\n\u001b[0;32m   1501\u001b[0m   )\n",
      "File \u001b[1;32mc:\\Python310\\lib\\site-packages\\tensorflow\\python\\eager\\execute.py:53\u001b[0m, in \u001b[0;36mquick_execute\u001b[1;34m(op_name, num_outputs, inputs, attrs, ctx, name)\u001b[0m\n\u001b[0;32m     51\u001b[0m \u001b[39mtry\u001b[39;00m:\n\u001b[0;32m     52\u001b[0m   ctx\u001b[39m.\u001b[39mensure_initialized()\n\u001b[1;32m---> 53\u001b[0m   tensors \u001b[39m=\u001b[39m pywrap_tfe\u001b[39m.\u001b[39;49mTFE_Py_Execute(ctx\u001b[39m.\u001b[39;49m_handle, device_name, op_name,\n\u001b[0;32m     54\u001b[0m                                       inputs, attrs, num_outputs)\n\u001b[0;32m     55\u001b[0m \u001b[39mexcept\u001b[39;00m core\u001b[39m.\u001b[39m_NotOkStatusException \u001b[39mas\u001b[39;00m e:\n\u001b[0;32m     56\u001b[0m   \u001b[39mif\u001b[39;00m name \u001b[39mis\u001b[39;00m \u001b[39mnot\u001b[39;00m \u001b[39mNone\u001b[39;00m:\n",
      "\u001b[1;31mKeyboardInterrupt\u001b[0m: "
     ]
    }
   ],
   "source": [
    "single_nn = neural_net(\n",
    "    x_train,\n",
    "    y_train,\n",
    "    learning_rate = 0.001,\n",
    "    n_hidden_units = n_hidden_units,\n",
    "    epochs = epochs,\n",
    "    validation_data = (x_dev, y_dev)\n",
    ")\n",
    "single_nn.summary()"
   ]
  },
  {
   "cell_type": "markdown",
   "metadata": {},
   "source": [
    "### Deep Neural Network\n",
    "\n",
    "The full model is specified as a deep neural network using layers with ReLU activation functions with a linear activation in the output layer. The choice of number of layers was initially kept small due to computational processing constraints."
   ]
  },
  {
   "cell_type": "code",
   "execution_count": null,
   "metadata": {},
   "outputs": [
    {
     "name": "stdout",
     "output_type": "stream",
     "text": [
      "Epoch 1/69\n",
      "196019/196019 [==============================] - 370s 2ms/step - loss: 0.2333 - mean_squared_error: 0.2333 - val_loss: 0.2063 - val_mean_squared_error: 0.2063\n",
      "Epoch 2/69\n",
      "196019/196019 [==============================] - 342s 2ms/step - loss: 0.1986 - mean_squared_error: 0.1986 - val_loss: 0.1871 - val_mean_squared_error: 0.1871\n",
      "Epoch 3/69\n",
      "196019/196019 [==============================] - 330s 2ms/step - loss: 0.1964 - mean_squared_error: 0.1964 - val_loss: 0.1903 - val_mean_squared_error: 0.1903\n",
      "Epoch 4/69\n",
      "196019/196019 [==============================] - 352s 2ms/step - loss: 0.1953 - mean_squared_error: 0.1953 - val_loss: 0.1929 - val_mean_squared_error: 0.1929\n",
      "Epoch 5/69\n",
      "196019/196019 [==============================] - 333s 2ms/step - loss: 0.1948 - mean_squared_error: 0.1948 - val_loss: 0.1913 - val_mean_squared_error: 0.1913\n",
      "Epoch 6/69\n",
      "196019/196019 [==============================] - 322s 2ms/step - loss: 0.1945 - mean_squared_error: 0.1945 - val_loss: 0.1886 - val_mean_squared_error: 0.1886\n",
      "Epoch 7/69\n",
      "196019/196019 [==============================] - 317s 2ms/step - loss: 0.1942 - mean_squared_error: 0.1942 - val_loss: 0.1833 - val_mean_squared_error: 0.1833\n",
      "Epoch 8/69\n",
      "196019/196019 [==============================] - 323s 2ms/step - loss: 0.1940 - mean_squared_error: 0.1940 - val_loss: 0.1861 - val_mean_squared_error: 0.1861\n",
      "Epoch 9/69\n",
      "196019/196019 [==============================] - 320s 2ms/step - loss: 0.1938 - mean_squared_error: 0.1938 - val_loss: 0.1906 - val_mean_squared_error: 0.1906\n",
      "Epoch 10/69\n",
      "196019/196019 [==============================] - 312s 2ms/step - loss: 0.1938 - mean_squared_error: 0.1938 - val_loss: 0.1877 - val_mean_squared_error: 0.1877\n",
      "Epoch 11/69\n",
      "196019/196019 [==============================] - 312s 2ms/step - loss: 0.1937 - mean_squared_error: 0.1937 - val_loss: 0.1868 - val_mean_squared_error: 0.1868\n",
      "Epoch 12/69\n",
      "196019/196019 [==============================] - 325s 2ms/step - loss: 0.1936 - mean_squared_error: 0.1936 - val_loss: 0.1920 - val_mean_squared_error: 0.1920\n",
      "Epoch 13/69\n",
      "196019/196019 [==============================] - 339s 2ms/step - loss: 0.1936 - mean_squared_error: 0.1936 - val_loss: 0.1869 - val_mean_squared_error: 0.1869\n",
      "Epoch 14/69\n",
      "196019/196019 [==============================] - 397s 2ms/step - loss: 0.1935 - mean_squared_error: 0.1935 - val_loss: 0.1845 - val_mean_squared_error: 0.1845\n",
      "Epoch 15/69\n",
      "196019/196019 [==============================] - 351s 2ms/step - loss: 0.1935 - mean_squared_error: 0.1935 - val_loss: 0.1959 - val_mean_squared_error: 0.1959\n",
      "Epoch 16/69\n",
      "196019/196019 [==============================] - 347s 2ms/step - loss: 0.1934 - mean_squared_error: 0.1934 - val_loss: 0.1834 - val_mean_squared_error: 0.1834\n",
      "Epoch 17/69\n",
      "196019/196019 [==============================] - 344s 2ms/step - loss: 0.1934 - mean_squared_error: 0.1934 - val_loss: 0.1999 - val_mean_squared_error: 0.1999\n",
      "Epoch 18/69\n",
      "196019/196019 [==============================] - 306s 2ms/step - loss: 0.1932 - mean_squared_error: 0.1932 - val_loss: 0.1900 - val_mean_squared_error: 0.1900\n",
      "Epoch 19/69\n",
      "196019/196019 [==============================] - 298s 2ms/step - loss: 0.1933 - mean_squared_error: 0.1933 - val_loss: 0.1857 - val_mean_squared_error: 0.1857\n",
      "Epoch 20/69\n",
      "196019/196019 [==============================] - 295s 2ms/step - loss: 0.1933 - mean_squared_error: 0.1933 - val_loss: 0.1889 - val_mean_squared_error: 0.1889\n",
      "Epoch 21/69\n",
      "196019/196019 [==============================] - 341s 2ms/step - loss: 0.1932 - mean_squared_error: 0.1932 - val_loss: 0.2021 - val_mean_squared_error: 0.2021\n",
      "Epoch 22/69\n",
      "196019/196019 [==============================] - 401s 2ms/step - loss: 0.1932 - mean_squared_error: 0.1932 - val_loss: 0.1902 - val_mean_squared_error: 0.1902\n",
      "Epoch 23/69\n",
      "196019/196019 [==============================] - 330s 2ms/step - loss: 0.1932 - mean_squared_error: 0.1932 - val_loss: 0.1854 - val_mean_squared_error: 0.1854\n",
      "Epoch 24/69\n",
      "196019/196019 [==============================] - 347s 2ms/step - loss: 0.1933 - mean_squared_error: 0.1933 - val_loss: 0.1895 - val_mean_squared_error: 0.1895\n",
      "Epoch 25/69\n",
      "196019/196019 [==============================] - 367s 2ms/step - loss: 0.1933 - mean_squared_error: 0.1933 - val_loss: 0.1904 - val_mean_squared_error: 0.1904\n",
      "Epoch 26/69\n",
      "196019/196019 [==============================] - 376s 2ms/step - loss: 0.1931 - mean_squared_error: 0.1931 - val_loss: 0.1952 - val_mean_squared_error: 0.1952\n",
      "Epoch 27/69\n",
      "196019/196019 [==============================] - 424s 2ms/step - loss: 0.1931 - mean_squared_error: 0.1931 - val_loss: 0.1864 - val_mean_squared_error: 0.1864\n",
      "Epoch 28/69\n",
      "196019/196019 [==============================] - 452s 2ms/step - loss: 0.1931 - mean_squared_error: 0.1931 - val_loss: 0.1889 - val_mean_squared_error: 0.1889\n",
      "Epoch 29/69\n",
      "196019/196019 [==============================] - 453s 2ms/step - loss: 0.1930 - mean_squared_error: 0.1930 - val_loss: 0.1851 - val_mean_squared_error: 0.1851\n",
      "Epoch 30/69\n",
      "196019/196019 [==============================] - 437s 2ms/step - loss: 0.1930 - mean_squared_error: 0.1930 - val_loss: 0.1880 - val_mean_squared_error: 0.1880\n",
      "Epoch 31/69\n",
      "196019/196019 [==============================] - 464s 2ms/step - loss: 0.1929 - mean_squared_error: 0.1929 - val_loss: 0.1926 - val_mean_squared_error: 0.1926\n",
      "Epoch 32/69\n",
      "196019/196019 [==============================] - 444s 2ms/step - loss: 0.1930 - mean_squared_error: 0.1930 - val_loss: 0.1877 - val_mean_squared_error: 0.1877\n",
      "Epoch 33/69\n",
      "196019/196019 [==============================] - 422s 2ms/step - loss: 0.1931 - mean_squared_error: 0.1931 - val_loss: 0.1957 - val_mean_squared_error: 0.1957\n",
      "Epoch 34/69\n",
      "196019/196019 [==============================] - 422s 2ms/step - loss: 0.1930 - mean_squared_error: 0.1930 - val_loss: 0.1923 - val_mean_squared_error: 0.1923\n",
      "Epoch 35/69\n",
      "196019/196019 [==============================] - 469s 2ms/step - loss: 0.1931 - mean_squared_error: 0.1931 - val_loss: 0.1898 - val_mean_squared_error: 0.1898\n",
      "Epoch 36/69\n",
      "196019/196019 [==============================] - 491s 3ms/step - loss: 0.1930 - mean_squared_error: 0.1930 - val_loss: 0.1868 - val_mean_squared_error: 0.1868\n",
      "Epoch 37/69\n",
      "196019/196019 [==============================] - 640s 3ms/step - loss: 0.1930 - mean_squared_error: 0.1930 - val_loss: 0.1882 - val_mean_squared_error: 0.1882\n",
      "Epoch 38/69\n",
      "196019/196019 [==============================] - 600s 3ms/step - loss: 0.1928 - mean_squared_error: 0.1928 - val_loss: 0.1873 - val_mean_squared_error: 0.1873\n",
      "Epoch 39/69\n",
      "196019/196019 [==============================] - 590s 3ms/step - loss: 0.1925 - mean_squared_error: 0.1925 - val_loss: 0.1886 - val_mean_squared_error: 0.1886\n",
      "Epoch 40/69\n",
      "196019/196019 [==============================] - 513s 3ms/step - loss: 0.1925 - mean_squared_error: 0.1925 - val_loss: 0.1882 - val_mean_squared_error: 0.1882\n",
      "Epoch 41/69\n",
      "196019/196019 [==============================] - 413s 2ms/step - loss: 0.1925 - mean_squared_error: 0.1925 - val_loss: 0.1838 - val_mean_squared_error: 0.1838\n",
      "Epoch 42/69\n",
      "196019/196019 [==============================] - 405s 2ms/step - loss: 0.1918 - mean_squared_error: 0.1918 - val_loss: 0.1863 - val_mean_squared_error: 0.1863\n",
      "Epoch 43/69\n",
      "196019/196019 [==============================] - 407s 2ms/step - loss: 0.1908 - mean_squared_error: 0.1908 - val_loss: 0.1843 - val_mean_squared_error: 0.1843\n",
      "Epoch 44/69\n",
      "196019/196019 [==============================] - 407s 2ms/step - loss: 0.1904 - mean_squared_error: 0.1904 - val_loss: 0.1831 - val_mean_squared_error: 0.1831\n",
      "Epoch 45/69\n",
      "196019/196019 [==============================] - 407s 2ms/step - loss: 0.1901 - mean_squared_error: 0.1901 - val_loss: 0.1901 - val_mean_squared_error: 0.1901\n",
      "Epoch 46/69\n",
      "196019/196019 [==============================] - 425s 2ms/step - loss: 0.1900 - mean_squared_error: 0.1900 - val_loss: 0.1815 - val_mean_squared_error: 0.1815\n",
      "Epoch 47/69\n",
      "196019/196019 [==============================] - 422s 2ms/step - loss: 0.1901 - mean_squared_error: 0.1901 - val_loss: 0.1835 - val_mean_squared_error: 0.1835\n",
      "Epoch 48/69\n",
      "196019/196019 [==============================] - 428s 2ms/step - loss: 0.1898 - mean_squared_error: 0.1898 - val_loss: 0.2046 - val_mean_squared_error: 0.2046\n",
      "Epoch 49/69\n",
      "196019/196019 [==============================] - 453s 2ms/step - loss: 0.1899 - mean_squared_error: 0.1899 - val_loss: 0.1809 - val_mean_squared_error: 0.1809\n",
      "Epoch 50/69\n",
      "196019/196019 [==============================] - 439s 2ms/step - loss: 0.1900 - mean_squared_error: 0.1900 - val_loss: 0.1887 - val_mean_squared_error: 0.1887\n",
      "Epoch 51/69\n",
      "196019/196019 [==============================] - 415s 2ms/step - loss: 0.1900 - mean_squared_error: 0.1900 - val_loss: 0.1826 - val_mean_squared_error: 0.1826\n",
      "Epoch 52/69\n",
      "196019/196019 [==============================] - 437s 2ms/step - loss: 0.1899 - mean_squared_error: 0.1899 - val_loss: 0.1876 - val_mean_squared_error: 0.1876\n",
      "Epoch 53/69\n",
      "196019/196019 [==============================] - 419s 2ms/step - loss: 0.1900 - mean_squared_error: 0.1900 - val_loss: 0.1816 - val_mean_squared_error: 0.1816\n",
      "Epoch 54/69\n",
      "196019/196019 [==============================] - 370s 2ms/step - loss: 0.1899 - mean_squared_error: 0.1899 - val_loss: 0.1996 - val_mean_squared_error: 0.1996\n",
      "Epoch 55/69\n",
      "196019/196019 [==============================] - 371s 2ms/step - loss: 0.1899 - mean_squared_error: 0.1899 - val_loss: 0.1822 - val_mean_squared_error: 0.1822\n",
      "Epoch 56/69\n",
      "196019/196019 [==============================] - 363s 2ms/step - loss: 0.1898 - mean_squared_error: 0.1898 - val_loss: 0.1807 - val_mean_squared_error: 0.1807\n",
      "Epoch 57/69\n",
      "196019/196019 [==============================] - 360s 2ms/step - loss: 0.1898 - mean_squared_error: 0.1898 - val_loss: 0.2043 - val_mean_squared_error: 0.2043\n",
      "Epoch 58/69\n",
      "196019/196019 [==============================] - 1012s 5ms/step - loss: 0.1899 - mean_squared_error: 0.1899 - val_loss: 0.1817 - val_mean_squared_error: 0.1817\n",
      "Epoch 59/69\n",
      "196019/196019 [==============================] - 1301s 7ms/step - loss: 0.1898 - mean_squared_error: 0.1898 - val_loss: 0.1815 - val_mean_squared_error: 0.1815\n",
      "Epoch 60/69\n",
      "196019/196019 [==============================] - 1007s 5ms/step - loss: 0.1898 - mean_squared_error: 0.1898 - val_loss: 0.1843 - val_mean_squared_error: 0.1843\n",
      "Epoch 61/69\n",
      "196019/196019 [==============================] - 522s 3ms/step - loss: 0.1897 - mean_squared_error: 0.1897 - val_loss: 0.1822 - val_mean_squared_error: 0.1822\n",
      "Epoch 62/69\n",
      "196019/196019 [==============================] - 518s 3ms/step - loss: 0.1899 - mean_squared_error: 0.1899 - val_loss: 0.1923 - val_mean_squared_error: 0.1923\n",
      "Epoch 63/69\n",
      "196019/196019 [==============================] - 527s 3ms/step - loss: 0.1897 - mean_squared_error: 0.1897 - val_loss: 0.1827 - val_mean_squared_error: 0.1827\n",
      "Epoch 64/69\n",
      "196019/196019 [==============================] - 515s 3ms/step - loss: 0.1896 - mean_squared_error: 0.1896 - val_loss: 0.1831 - val_mean_squared_error: 0.1831\n",
      "Epoch 65/69\n",
      "196019/196019 [==============================] - 502s 3ms/step - loss: 0.1898 - mean_squared_error: 0.1898 - val_loss: 0.1820 - val_mean_squared_error: 0.1820\n",
      "Epoch 66/69\n",
      "196019/196019 [==============================] - 521s 3ms/step - loss: 0.1898 - mean_squared_error: 0.1898 - val_loss: 0.1820 - val_mean_squared_error: 0.1820\n",
      "Epoch 67/69\n",
      "196019/196019 [==============================] - 514s 3ms/step - loss: 0.1898 - mean_squared_error: 0.1898 - val_loss: 0.1799 - val_mean_squared_error: 0.1799\n",
      "Epoch 68/69\n",
      "196019/196019 [==============================] - 977s 5ms/step - loss: 0.1898 - mean_squared_error: 0.1898 - val_loss: 0.1831 - val_mean_squared_error: 0.1831\n",
      "Epoch 69/69\n",
      "196019/196019 [==============================] - 1149s 6ms/step - loss: 0.1898 - mean_squared_error: 0.1898 - val_loss: 0.1856 - val_mean_squared_error: 0.1856\n"
     ]
    }
   ],
   "source": [
    "deep_nn = neural_net(\n",
    "    x_train,\n",
    "    y_train,\n",
    "    n_layers = 10,\n",
    "    n_hidden_units = n_hidden_units,\n",
    "    epochs = 100,\n",
    "    validation_data = (x_dev, y_dev)\n",
    ")\n",
    "deep_nn.summary()"
   ]
  },
  {
   "cell_type": "markdown",
   "metadata": {},
   "source": [
    "## Results"
   ]
  },
  {
   "cell_type": "code",
   "execution_count": 12,
   "metadata": {},
   "outputs": [
    {
     "data": {
      "image/png": "[encoded data removed]",
      "text/plain": [
       "<Figure size 640x480 with 1 Axes>"
      ]
     },
     "metadata": {},
     "output_type": "display_data"
    }
   ],
   "source": [
    "nn_dict = {\n",
    "    'NN - 1 layer': single_nn.history.history['loss'],\n",
    "    'NN - 5 layers': deep_nn.history.history['loss']\n",
    "}\n",
    "baseline_dict = {\n",
    "    'Random Forest': rfr_mse,\n",
    "    # 'Random Forest (tuned)': rfr_t_mse,\n",
    "    'XGBoost': xgb_mse\n",
    "}\n",
    "\n",
    "generate_plot(nn_dict, baseline_dict)"
   ]
  },
  {
   "cell_type": "markdown",
   "metadata": {},
   "source": [
    "### Calculating marginal valuation of environmental attributes\n",
    "\n",
    "Once we have a model with environmental attributes as features and log of house price as the target variable, we can begin to construct the marginal willingness to pay for environmental attributes, and therefore get a proxy for their value.\n",
    "\n",
    "The partial derivative of `ln_price` w.r.t an input variable can be evaluated during the backwards propagation stage of the model fitting. By evaluating this derivative at a variety of samples, we can plot a valulation curve for % change in house price resulting from a percentile change in the rank of a house for a given environmental attribute."
   ]
  },
  {
   "cell_type": "code",
   "execution_count": null,
   "metadata": {},
   "outputs": [],
   "source": [
    "# extract the gradients from the model\n",
    "points = np.arange(0, 1.05, 0.05)\n",
    "gradients = calc_partial_grad(\n",
    "    deep_nn,\n",
    "    x_train,\n",
    "    derivative_index,\n",
    "    points)\n",
    "\n",
    "# calculate gradients across 20 different points (per attribute)\n",
    "\n",
    "# plot the derived valuation curves"
   ]
  },
  {
   "cell_type": "markdown",
   "metadata": {},
   "source": [
    "### Saving models\n",
    "\n",
    "Here we save the pre-trained models so they can be loaded and used."
   ]
  },
  {
   "cell_type": "code",
   "execution_count": 13,
   "metadata": {},
   "outputs": [
    {
     "name": "stdout",
     "output_type": "stream",
     "text": [
      "INFO:tensorflow:Assets written to: c:\\GitHub personal\\GreenValueNet\\outputs\\models\\nn_layers_5\\assets\n"
     ]
    },
    {
     "name": "stderr",
     "output_type": "stream",
     "text": [
      "INFO:tensorflow:Assets written to: c:\\GitHub personal\\GreenValueNet\\outputs\\models\\nn_layers_5\\assets\n"
     ]
    },
    {
     "name": "stdout",
     "output_type": "stream",
     "text": [
      "Saved artifact at 'c:\\GitHub personal\\GreenValueNet\\outputs\\models\\nn_layers_5'. The following endpoints are available:\n",
      "\n",
      "* Endpoint 'serve'\n",
      "  args_0 (POSITIONAL_ONLY): TensorSpec(shape=(None, 23), dtype=tf.float32, name='input_2')\n",
      "Output Type:\n",
      "  TensorSpec(shape=(None, 1), dtype=tf.float32, name=None)\n",
      "Captures:\n",
      "  2412704776784: TensorSpec(shape=(), dtype=tf.resource, name=None)\n",
      "  2413433955680: TensorSpec(shape=(), dtype=tf.resource, name=None)\n",
      "  2411987379904: TensorSpec(shape=(), dtype=tf.resource, name=None)\n",
      "  2413433951456: TensorSpec(shape=(), dtype=tf.resource, name=None)\n",
      "  2413433954272: TensorSpec(shape=(), dtype=tf.resource, name=None)\n",
      "  2410030011616: TensorSpec(shape=(), dtype=tf.resource, name=None)\n",
      "  2413433947056: TensorSpec(shape=(), dtype=tf.resource, name=None)\n",
      "  2413433949168: TensorSpec(shape=(), dtype=tf.resource, name=None)\n",
      "  2413433949520: TensorSpec(shape=(), dtype=tf.resource, name=None)\n",
      "  2413433961840: TensorSpec(shape=(), dtype=tf.resource, name=None)\n",
      "  2413433960960: TensorSpec(shape=(), dtype=tf.resource, name=None)\n",
      "  2413433953744: TensorSpec(shape=(), dtype=tf.resource, name=None)\n",
      "INFO:tensorflow:Assets written to: c:\\GitHub personal\\GreenValueNet\\outputs\\models\\nn_layers_1\\assets\n"
     ]
    },
    {
     "name": "stderr",
     "output_type": "stream",
     "text": [
      "INFO:tensorflow:Assets written to: c:\\GitHub personal\\GreenValueNet\\outputs\\models\\nn_layers_1\\assets\n"
     ]
    },
    {
     "name": "stdout",
     "output_type": "stream",
     "text": [
      "Saved artifact at 'c:\\GitHub personal\\GreenValueNet\\outputs\\models\\nn_layers_1'. The following endpoints are available:\n",
      "\n",
      "* Endpoint 'serve'\n",
      "  args_0 (POSITIONAL_ONLY): TensorSpec(shape=(None, 23), dtype=tf.float32, name='input_1')\n",
      "Output Type:\n",
      "  TensorSpec(shape=(None, 1), dtype=tf.float32, name=None)\n",
      "Captures:\n",
      "  2410030019536: TensorSpec(shape=(), dtype=tf.resource, name=None)\n",
      "  2410030018832: TensorSpec(shape=(), dtype=tf.resource, name=None)\n",
      "  2410462220128: TensorSpec(shape=(), dtype=tf.resource, name=None)\n",
      "  2410030016896: TensorSpec(shape=(), dtype=tf.resource, name=None)\n"
     ]
    },
    {
     "data": {
      "text/plain": [
       "['c:\\\\GitHub personal\\\\GreenValueNet\\\\outputs\\\\models\\\\xgboost.joblib']"
      ]
     },
     "execution_count": 13,
     "metadata": {},
     "output_type": "execute_result"
    }
   ],
   "source": [
    "model_dir = cwd / \"outputs\" / \"models\"\n",
    "\n",
    "# save models as tensor objects\n",
    "deep_nn.save(model_dir / \"nn_layers_5\")\n",
    "single_nn.save(model_dir / \"nn_layers_1\")\n",
    "\n",
    "# save models as joblib files\n",
    "joblib.dump(rfr_model, model_dir / \"random_forest.joblib\")\n",
    "# joblib.dump(rfr_t_model, model_dir / \"random_forest_tuned.joblib\")\n",
    "joblib.dump(xgb_model, model_dir / \"xgboost.joblib\")"
   ]
  }
 ],
 "metadata": {
  "kernelspec": {
   "display_name": "Python 3",
   "language": "python",
   "name": "python3"
  },
  "language_info": {
   "codemirror_mode": {
    "name": "ipython",
    "version": 3
   },
   "file_extension": ".py",
   "mimetype": "text/x-python",
   "name": "python",
   "nbconvert_exporter": "python",
   "pygments_lexer": "ipython3",
   "version": "3.10.1"
  },
  "orig_nbformat": 4
 },
 "nbformat": 4,
 "nbformat_minor": 2
}
