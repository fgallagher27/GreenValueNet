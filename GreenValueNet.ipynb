{
 "cells": [
  {
   "cell_type": "markdown",
   "metadata": {},
   "source": [
    "# GreenValueNet\n",
    "\n",
    "This notebook contains the code needed to execute the GreenValueNet hedonic pricing neural network. "
   ]
  },
  {
   "cell_type": "code",
   "execution_count": 6,
   "metadata": {},
   "outputs": [],
   "source": [
    "import os\n",
    "import pandas as pd\n",
    "import geopandas as gpd\n",
    "from shapely.geometry import Point\n",
    "from pathlib import Path\n",
    "from data_load_funcs import get_params, load_data_catalogue\n",
    "from processing_funcs import process_data, normalise_values\n",
    "\n",
    "cwd = Path.cwd()\n",
    "params = get_params()\n",
    "data_catalogue = load_data_catalogue()\n"
   ]
  },
  {
   "cell_type": "code",
   "execution_count": 2,
   "metadata": {},
   "outputs": [
    {
     "name": "stdout",
     "output_type": "stream",
     "text": [
      "Processing data to create dataset...\n",
      "Extracting file path from catalogue: inputs/house_prices ...\n",
      "Processed house price file exists.\n",
      "Loading data...\n",
      "Creating spatial attributes dataset...\n",
      "Processing Generalised Land Use Database...\n",
      "Processing school locations...\n",
      "Extracting file path from catalogue: inputs/schools ...\n"
     ]
    },
    {
     "name": "stderr",
     "output_type": "stream",
     "text": [
      "c:\\GitHub personal\\GreenValueNet\\processing_funcs.py:222: DtypeWarning: Columns (30,31,38,46,48,50,51,55,72,73,81,86,87,88,89,90,91,92,93,94,95,96,117,120,121,125,126,129,139) have mixed types. Specify dtype option on import or set low_memory=False.\n",
      "  schools_raw = pd.read_csv(cwd / \"data\" / path)\n"
     ]
    },
    {
     "name": "stdout",
     "output_type": "stream",
     "text": [
      "Extracting file path from catalogue: inputs/postcodes ...\n",
      "Caclulating distance to nearest coastline\n",
      "Caclulating distance to nearest prim_school\n",
      "Caclulating distance to nearest sec_school\n",
      "Caclulating distance to nearest roads\n",
      "Caclulating distance to nearest nat_park\n",
      "Caclulating distance to nearest nat_trust\n",
      "Caclulating distance to nearest ttwa\n"
     ]
    }
   ],
   "source": [
    "dataset = process_data(data_catalogue, params)\n",
    "\n",
    "# print summary stats table here\n",
    "\n",
    "norm_cols = [col for col in dataset.columns if col not in params['non_norm_cols']]\n",
    "for col in norm_cols:\n",
    "    dataset[col] = normalise_values(dataset[col])"
   ]
  }
 ],
 "metadata": {
  "kernelspec": {
   "display_name": "Python 3",
   "language": "python",
   "name": "python3"
  },
  "language_info": {
   "codemirror_mode": {
    "name": "ipython",
    "version": 3
   },
   "file_extension": ".py",
   "mimetype": "text/x-python",
   "name": "python",
   "nbconvert_exporter": "python",
   "pygments_lexer": "ipython3",
   "version": "3.10.1"
  },
  "orig_nbformat": 4
 },
 "nbformat": 4,
 "nbformat_minor": 2
}
