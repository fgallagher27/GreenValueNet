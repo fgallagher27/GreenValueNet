{
 "cells": [
  {
   "cell_type": "markdown",
   "metadata": {},
   "source": [
    "# GreenValueNet\n",
    "\n",
    "This notebook contains the code needed to execute the GreenValueNet hedonic pricing neural network. "
   ]
  },
  {
   "cell_type": "markdown",
   "metadata": {},
   "source": [
    "### Set up and data loading"
   ]
  },
  {
   "cell_type": "code",
   "execution_count": 1,
   "metadata": {},
   "outputs": [],
   "source": [
    "import joblib\n",
    "import keras\n",
    "import matplotlib.pyplot as plt\n",
    "from pathlib import Path\n",
    "from sklearn.metrics import mean_squared_error\n",
    "from data_load_funcs import get_params, load_data_catalogue\n",
    "from processing_funcs import process_data, normalise_values\n",
    "from model_funcs import *\n",
    "\n",
    "cwd = Path.cwd()\n",
    "params = get_params()\n",
    "data_catalogue = load_data_catalogue()"
   ]
  },
  {
   "cell_type": "markdown",
   "metadata": {},
   "source": [
    "The `dataset.csv` file from `data/interim_files` is loaded if it already exists, or constructed if not. To build the dataset please follow the steps in [Annex 1 of the ReadMe file](readme.md#annex-1) to esnure all relevant files have been downloaded. "
   ]
  },
  {
   "cell_type": "code",
   "execution_count": 2,
   "metadata": {},
   "outputs": [
    {
     "name": "stdout",
     "output_type": "stream",
     "text": [
      "Processed dataset already exists.\n",
      "Loading exisitng dataset...\n",
      "                                  Mean    Std Dev       Maximum   Minimum\n",
      "ln_price                     12.393713   0.658136     18.134158  0.116855\n",
      "propertytype                  1.328094   1.085676      3.000000  0.000000\n",
      "oldnew                        0.134435   0.341119      1.000000  0.000000\n",
      "duration                      0.325202   0.468482      2.000000  0.000000\n",
      "current_energy_efficiency    61.056443  12.444568    347.000000  0.000000\n",
      "potential_energy_efficiency   0.805024   0.140106      1.000000  0.000000\n",
      "total_floor_area             91.622326  68.669650  60506.700000  0.000000\n",
      "extension_count               0.495053   0.743755      4.000000  0.000000\n",
      "number_habitable_rooms        4.521529   1.748808    100.000000  0.000000\n",
      "number_heated_rooms           4.437662   1.754007    100.000000  0.000000\n",
      "construction_age_band         4.477500   3.153767     10.000000 -1.000000\n",
      "coastline_dist               57.173176  38.518186    144.036327  0.004453\n",
      "prim_school_dist              0.846688   0.763455     19.868981  0.000000\n",
      "sec_school_dist               2.576883   2.873106     82.942021  0.000000\n",
      "roads_dist                    1.081792   1.578059     28.161536  0.000346\n",
      "nat_park_dist                77.727576  48.713587    265.390815  0.000000\n",
      "nat_trust_dist               22.852628  21.907702    142.965575  0.000000\n",
      "ttwa_dist                     0.000328   0.009237      0.673083  0.000000\n",
      "dom_builds_share              0.067904   0.052405      0.311189  0.000168\n",
      "garden_share                  0.195073   0.134780      0.628869  0.000000\n",
      "non_dom_builds_share          0.033796   0.040105      0.495773  0.000082\n",
      "path_share                    0.006395   0.006409      0.070791  0.000000\n",
      "greenspace_share              0.512138   0.279680      0.989144  0.012036\n",
      "water_share                   0.027889   0.074272      0.871968  0.000000\n"
     ]
    }
   ],
   "source": [
    "dataset = process_data(data_catalogue, params)\n",
    "\n",
    "# show summary stats\n",
    "summary_stats = dataset.describe().transpose()[['mean', 'std', 'max', 'min']]\n",
    "summary_stats.columns = ['Mean', 'Std Dev', 'Maximum', 'Minimum']\n",
    "print(summary_stats)"
   ]
  },
  {
   "cell_type": "code",
   "execution_count": 4,
   "metadata": {},
   "outputs": [
    {
     "name": "stdout",
     "output_type": "stream",
     "text": [
      "(12909200, 26)\n",
      "transactionid                  0\n",
      "ln_price                       0\n",
      "postcode                       0\n",
      "propertytype                   0\n",
      "oldnew                         0\n",
      "duration                       0\n",
      "current_energy_efficiency      0\n",
      "potential_energy_efficiency    0\n",
      "total_floor_area               0\n",
      "extension_count                0\n",
      "number_habitable_rooms         0\n",
      "number_heated_rooms            0\n",
      "construction_age_band          0\n",
      "coastline_dist                 0\n",
      "prim_school_dist               0\n",
      "sec_school_dist                0\n",
      "roads_dist                     0\n",
      "nat_park_dist                  0\n",
      "nat_trust_dist                 0\n",
      "ttwa_dist                      0\n",
      "dom_builds_share               0\n",
      "garden_share                   0\n",
      "non_dom_builds_share           0\n",
      "path_share                     0\n",
      "greenspace_share               0\n",
      "water_share                    0\n",
      "dtype: int64\n"
     ]
    }
   ],
   "source": [
    "print(dataset.shape)\n",
    "print(dataset.isnull().sum())"
   ]
  },
  {
   "cell_type": "markdown",
   "metadata": {},
   "source": [
    "Now we normalise any non-encoded variables to increase speed of learning of algorithm and convert the dataset to an array of inputs, and an associated output array."
   ]
  },
  {
   "cell_type": "code",
   "execution_count": 3,
   "metadata": {},
   "outputs": [],
   "source": [
    "norm_cols = [col for col in dataset.columns if col not in params['non_norm_cols']]\n",
    "for col in norm_cols:\n",
    "    dataset[col] = normalise_values(dataset[col])\n",
    "\n",
    "# creates an input array of shape m,x and an output array of shape m\n",
    "x, y, derivative_index = create_x_y_arr(dataset, params)"
   ]
  },
  {
   "cell_type": "markdown",
   "metadata": {},
   "source": [
    "The dataset is then split into train, dev and test sets using sci-kit learn."
   ]
  },
  {
   "cell_type": "code",
   "execution_count": 18,
   "metadata": {},
   "outputs": [],
   "source": [
    "x_train, x_dev, x_test, y_train, y_dev, y_test = split_to_test_dev_train(\n",
    "    x,\n",
    "    y,\n",
    "    params['dev_size'],\n",
    "    params['test_size'],\n",
    "    prop=False\n",
    ")"
   ]
  },
  {
   "cell_type": "markdown",
   "metadata": {},
   "source": [
    "## Benchmarking\n",
    "\n",
    "To evaluate the performance of my neural network we use random forest and XGBoost regressions as baseline models. We optimise based on the mean squared error (MSE) and report this as our measure of performance."
   ]
  },
  {
   "cell_type": "markdown",
   "metadata": {},
   "source": [
    "### Random Forest\n"
   ]
  },
  {
   "cell_type": "code",
   "execution_count": 8,
   "metadata": {},
   "outputs": [],
   "source": [
    "# run baseline random forest regression using scikit-learn\n",
    "rfr_model = random_forest_reg(\n",
    "    x_train,\n",
    "    y_train,\n",
    "    tuning=False\n",
    ")\n",
    "\n",
    "# now run with grid search to tune parameters\n",
    "# rfr_tuned  =  random_forest_reg(\n",
    "#     x_train,\n",
    "#     y_train,\n",
    "#     tuning=True,\n",
    "#     tuning_params = params['tuning_dict']['grid']\n",
    "# )\n",
    "\n",
    "# generate predictions and measure according to mean squared error\n",
    "rfr_pred, rfr_mse = generate_pred_metric(rfr_model, mean_squared_error, x_dev, y_dev)\n",
    "# rfr_t_pred, rfr_t_mse = generate_pred_metric(rfr_tuned, mean_squared_error, x_dev, y_dev)"
   ]
  },
  {
   "cell_type": "markdown",
   "metadata": {},
   "source": [
    "### XGBoost"
   ]
  },
  {
   "cell_type": "code",
   "execution_count": 9,
   "metadata": {},
   "outputs": [],
   "source": [
    "xgb_model = boosted_grad_reg(x_train, y_train)\n",
    "xgb_pred, xgb_mse = generate_pred_metric(xgb_model, mean_squared_error, x_dev, y_dev)"
   ]
  },
  {
   "cell_type": "markdown",
   "metadata": {},
   "source": [
    "## Neural networks\n",
    "\n",
    "We know build some neural networks. Number of epochs, hidden layers, and nodes in hidden layers is initially set with rules of thumb but then optimiszed using hyperparameter tuning."
   ]
  },
  {
   "cell_type": "code",
   "execution_count": 11,
   "metadata": {},
   "outputs": [],
   "source": [
    "# set epochs to be 3 times number of features\n",
    "epochs = int(x_train.shape[1]) * 3\n",
    "\n",
    "# set n_hidden_units to be mean of input and output layer sizes\n",
    "n_hidden_units = round((x_train.shape[1] + 1) / 2)"
   ]
  },
  {
   "cell_type": "markdown",
   "metadata": {},
   "source": [
    "### Single Layer Neural Network\n",
    "\n",
    "A single hidden layer with ReLU activation is used with a linear output layer."
   ]
  },
  {
   "cell_type": "code",
   "execution_count": 13,
   "metadata": {},
   "outputs": [
    {
     "name": "stderr",
     "output_type": "stream",
     "text": [
      "WARNING:absl:At this time, the v2.11+ optimizer `tf.keras.optimizers.Adam` runs slowly on M1/M2 Macs, please use the legacy Keras optimizer instead, located at `tf.keras.optimizers.legacy.Adam`.\n"
     ]
    },
    {
     "name": "stdout",
     "output_type": "stream",
     "text": [
      "Epoch 1/69\n",
      "402788/402788 [==============================] - 137s 338us/step - loss: 0.2617 - mae: 0.3905 - val_loss: 0.2431 - val_mae: 0.3735\n",
      "Epoch 2/69\n",
      "402788/402788 [==============================] - 137s 341us/step - loss: 0.2566 - mae: 0.3894 - val_loss: 0.2472 - val_mae: 0.3744\n",
      "Epoch 3/69\n",
      "402788/402788 [==============================] - 138s 342us/step - loss: 0.2566 - mae: 0.3894 - val_loss: 0.2595 - val_mae: 0.3770\n",
      "Epoch 4/69\n",
      "402788/402788 [==============================] - 137s 340us/step - loss: 0.2639 - mae: 0.3949 - val_loss: 0.2950 - val_mae: 0.4027\n",
      "Epoch 5/69\n",
      "402788/402788 [==============================] - 138s 342us/step - loss: 0.2676 - mae: 0.3978 - val_loss: 0.2674 - val_mae: 0.3878\n",
      "Epoch 6/69\n",
      "402788/402788 [==============================] - 137s 340us/step - loss: 0.2676 - mae: 0.3978 - val_loss: 0.2606 - val_mae: 0.3847\n",
      "Epoch 7/69\n",
      "402788/402788 [==============================] - 138s 342us/step - loss: 0.2676 - mae: 0.3978 - val_loss: 0.2667 - val_mae: 0.3864\n",
      "Epoch 8/69\n",
      "402788/402788 [==============================] - 136s 339us/step - loss: 0.2676 - mae: 0.3978 - val_loss: 0.2679 - val_mae: 0.3866\n",
      "Epoch 9/69\n",
      "402788/402788 [==============================] - 136s 338us/step - loss: 0.2676 - mae: 0.3978 - val_loss: 0.2825 - val_mae: 0.3936\n",
      "Epoch 10/69\n",
      "402788/402788 [==============================] - 139s 346us/step - loss: 0.2677 - mae: 0.3978 - val_loss: 0.3111 - val_mae: 0.4409\n",
      "Epoch 11/69\n",
      "402788/402788 [==============================] - 139s 344us/step - loss: 0.2676 - mae: 0.3977 - val_loss: 0.2639 - val_mae: 0.3853\n",
      "Epoch 12/69\n",
      "402788/402788 [==============================] - 138s 343us/step - loss: 0.2676 - mae: 0.3978 - val_loss: 0.2617 - val_mae: 0.3889\n",
      "Epoch 13/69\n",
      "402788/402788 [==============================] - 138s 343us/step - loss: 0.2676 - mae: 0.3977 - val_loss: 0.2618 - val_mae: 0.3864\n",
      "Epoch 14/69\n",
      "402788/402788 [==============================] - 138s 343us/step - loss: 0.2676 - mae: 0.3978 - val_loss: 0.3013 - val_mae: 0.4311\n",
      "Epoch 15/69\n",
      "402788/402788 [==============================] - 138s 343us/step - loss: 0.2676 - mae: 0.3977 - val_loss: 0.2666 - val_mae: 0.3951\n",
      "Epoch 16/69\n",
      "402788/402788 [==============================] - 138s 344us/step - loss: 0.2676 - mae: 0.3978 - val_loss: 0.2633 - val_mae: 0.3938\n",
      "Epoch 17/69\n",
      "402788/402788 [==============================] - 138s 343us/step - loss: 0.2676 - mae: 0.3978 - val_loss: 0.2803 - val_mae: 0.4146\n",
      "Epoch 18/69\n",
      "402788/402788 [==============================] - 139s 344us/step - loss: 0.2676 - mae: 0.3978 - val_loss: 0.2606 - val_mae: 0.3897\n",
      "Epoch 19/69\n",
      "402788/402788 [==============================] - 139s 344us/step - loss: 0.2675 - mae: 0.3977 - val_loss: 0.2687 - val_mae: 0.3971\n",
      "Epoch 20/69\n",
      "402788/402788 [==============================] - 139s 344us/step - loss: 0.2676 - mae: 0.3978 - val_loss: 0.2716 - val_mae: 0.3885\n",
      "Epoch 21/69\n",
      "402788/402788 [==============================] - 139s 345us/step - loss: 0.2676 - mae: 0.3977 - val_loss: 0.2644 - val_mae: 0.3854\n",
      "Epoch 22/69\n",
      "402788/402788 [==============================] - 138s 344us/step - loss: 0.2676 - mae: 0.3978 - val_loss: 0.2605 - val_mae: 0.3907\n",
      "Epoch 23/69\n",
      "402788/402788 [==============================] - 139s 344us/step - loss: 0.2676 - mae: 0.3978 - val_loss: 0.3098 - val_mae: 0.4066\n",
      "Epoch 24/69\n",
      "402788/402788 [==============================] - 138s 344us/step - loss: 0.2676 - mae: 0.3978 - val_loss: 0.2770 - val_mae: 0.3913\n",
      "Epoch 25/69\n",
      "402788/402788 [==============================] - 138s 343us/step - loss: 0.2677 - mae: 0.3979 - val_loss: 0.2599 - val_mae: 0.3891\n",
      "Epoch 26/69\n",
      "402788/402788 [==============================] - 139s 346us/step - loss: 0.2676 - mae: 0.3978 - val_loss: 0.2588 - val_mae: 0.3857\n",
      "Epoch 27/69\n",
      "402788/402788 [==============================] - 139s 346us/step - loss: 0.2676 - mae: 0.3978 - val_loss: 0.2596 - val_mae: 0.3863\n",
      "Epoch 28/69\n",
      "402788/402788 [==============================] - 139s 344us/step - loss: 0.2676 - mae: 0.3977 - val_loss: 0.2771 - val_mae: 0.4108\n",
      "Epoch 29/69\n",
      "402788/402788 [==============================] - 139s 344us/step - loss: 0.2676 - mae: 0.3977 - val_loss: 0.2992 - val_mae: 0.4320\n",
      "Epoch 30/69\n",
      "402788/402788 [==============================] - 139s 344us/step - loss: 0.2676 - mae: 0.3977 - val_loss: 0.2961 - val_mae: 0.4217\n",
      "Epoch 31/69\n",
      "402788/402788 [==============================] - 139s 344us/step - loss: 0.2676 - mae: 0.3977 - val_loss: 0.2586 - val_mae: 0.3868\n",
      "Epoch 32/69\n",
      "402788/402788 [==============================] - 138s 343us/step - loss: 0.2676 - mae: 0.3978 - val_loss: 0.2617 - val_mae: 0.3929\n",
      "Epoch 33/69\n",
      "402788/402788 [==============================] - 139s 344us/step - loss: 0.2677 - mae: 0.3978 - val_loss: 0.2619 - val_mae: 0.3852\n",
      "Epoch 34/69\n",
      "402788/402788 [==============================] - 139s 345us/step - loss: 0.2676 - mae: 0.3978 - val_loss: 0.2673 - val_mae: 0.3993\n",
      "Epoch 35/69\n",
      "402788/402788 [==============================] - 141s 350us/step - loss: 0.2676 - mae: 0.3978 - val_loss: 0.2654 - val_mae: 0.3861\n",
      "Epoch 36/69\n",
      "402788/402788 [==============================] - 140s 347us/step - loss: 0.2676 - mae: 0.3978 - val_loss: 0.2608 - val_mae: 0.3871\n",
      "Epoch 37/69\n",
      "402788/402788 [==============================] - 139s 345us/step - loss: 0.2676 - mae: 0.3978 - val_loss: 0.2724 - val_mae: 0.4056\n",
      "Epoch 38/69\n",
      "402788/402788 [==============================] - 139s 345us/step - loss: 0.2676 - mae: 0.3977 - val_loss: 0.2639 - val_mae: 0.3855\n",
      "Epoch 39/69\n",
      "402788/402788 [==============================] - 139s 345us/step - loss: 0.2675 - mae: 0.3977 - val_loss: 0.2651 - val_mae: 0.3858\n",
      "Epoch 40/69\n",
      "402788/402788 [==============================] - 139s 346us/step - loss: 0.2677 - mae: 0.3978 - val_loss: 0.2655 - val_mae: 0.3926\n",
      "Epoch 41/69\n",
      "402788/402788 [==============================] - 139s 345us/step - loss: 0.2675 - mae: 0.3977 - val_loss: 0.2596 - val_mae: 0.3855\n",
      "Epoch 42/69\n",
      "402788/402788 [==============================] - 139s 346us/step - loss: 0.2676 - mae: 0.3977 - val_loss: 0.2780 - val_mae: 0.3933\n",
      "Epoch 43/69\n",
      "402788/402788 [==============================] - 139s 345us/step - loss: 0.2675 - mae: 0.3977 - val_loss: 0.2690 - val_mae: 0.4007\n",
      "Epoch 44/69\n",
      "402788/402788 [==============================] - 139s 345us/step - loss: 0.2676 - mae: 0.3978 - val_loss: 0.2681 - val_mae: 0.3881\n",
      "Epoch 45/69\n",
      "402788/402788 [==============================] - 139s 345us/step - loss: 0.2677 - mae: 0.3978 - val_loss: 0.2642 - val_mae: 0.3853\n",
      "Epoch 46/69\n",
      "402788/402788 [==============================] - 139s 345us/step - loss: 0.2676 - mae: 0.3977 - val_loss: 0.2684 - val_mae: 0.4004\n",
      "Epoch 47/69\n",
      "402788/402788 [==============================] - 139s 345us/step - loss: 0.2675 - mae: 0.3977 - val_loss: 0.2671 - val_mae: 0.3949\n",
      "Epoch 48/69\n",
      "402788/402788 [==============================] - 139s 345us/step - loss: 0.2677 - mae: 0.3978 - val_loss: 0.2734 - val_mae: 0.4049\n",
      "Epoch 49/69\n",
      "402788/402788 [==============================] - 139s 346us/step - loss: 0.2676 - mae: 0.3977 - val_loss: 0.2602 - val_mae: 0.3901\n",
      "Epoch 50/69\n",
      "402788/402788 [==============================] - 139s 346us/step - loss: 0.2676 - mae: 0.3977 - val_loss: 0.2602 - val_mae: 0.3884\n",
      "Epoch 51/69\n",
      "402788/402788 [==============================] - 139s 345us/step - loss: 0.2676 - mae: 0.3977 - val_loss: 0.2669 - val_mae: 0.3865\n",
      "Epoch 52/69\n",
      "402788/402788 [==============================] - 139s 346us/step - loss: 0.2676 - mae: 0.3978 - val_loss: 0.2582 - val_mae: 0.3862\n",
      "Epoch 53/69\n",
      "402788/402788 [==============================] - 139s 346us/step - loss: 0.2676 - mae: 0.3978 - val_loss: 0.2589 - val_mae: 0.3867\n",
      "Epoch 54/69\n",
      "402788/402788 [==============================] - 139s 346us/step - loss: 0.2676 - mae: 0.3977 - val_loss: 0.2679 - val_mae: 0.3888\n",
      "Epoch 55/69\n",
      "402788/402788 [==============================] - 140s 349us/step - loss: 0.2676 - mae: 0.3978 - val_loss: 0.2733 - val_mae: 0.3890\n",
      "Epoch 56/69\n",
      "402788/402788 [==============================] - 139s 346us/step - loss: 0.2675 - mae: 0.3977 - val_loss: 0.2640 - val_mae: 0.3872\n",
      "Epoch 57/69\n",
      "402788/402788 [==============================] - 140s 346us/step - loss: 0.2675 - mae: 0.3977 - val_loss: 0.2707 - val_mae: 0.4039\n",
      "Epoch 58/69\n",
      "402788/402788 [==============================] - 139s 346us/step - loss: 0.2675 - mae: 0.3977 - val_loss: 0.2613 - val_mae: 0.3851\n",
      "Epoch 59/69\n",
      "402788/402788 [==============================] - 139s 346us/step - loss: 0.2677 - mae: 0.3979 - val_loss: 0.2609 - val_mae: 0.3922\n",
      "Epoch 60/69\n",
      "402788/402788 [==============================] - 136s 337us/step - loss: 0.2676 - mae: 0.3978 - val_loss: 0.2653 - val_mae: 0.3977\n",
      "Epoch 61/69\n",
      "402788/402788 [==============================] - 135s 335us/step - loss: 0.2677 - mae: 0.3978 - val_loss: 0.2707 - val_mae: 0.4038\n",
      "Epoch 62/69\n",
      "402788/402788 [==============================] - 135s 336us/step - loss: 0.2676 - mae: 0.3977 - val_loss: 0.2615 - val_mae: 0.3914\n",
      "Epoch 63/69\n",
      "402788/402788 [==============================] - 135s 336us/step - loss: 0.2676 - mae: 0.3978 - val_loss: 0.2698 - val_mae: 0.4027\n",
      "Epoch 64/69\n",
      "402788/402788 [==============================] - 135s 336us/step - loss: 0.2676 - mae: 0.3977 - val_loss: 0.2712 - val_mae: 0.4003\n",
      "Epoch 65/69\n",
      "402788/402788 [==============================] - 135s 336us/step - loss: 0.2676 - mae: 0.3978 - val_loss: 0.2673 - val_mae: 0.3992\n",
      "Epoch 66/69\n",
      "402788/402788 [==============================] - 135s 336us/step - loss: 0.2676 - mae: 0.3978 - val_loss: 0.2660 - val_mae: 0.3959\n",
      "Epoch 67/69\n",
      "402788/402788 [==============================] - 135s 336us/step - loss: 0.2676 - mae: 0.3978 - val_loss: 0.2715 - val_mae: 0.4045\n",
      "Epoch 68/69\n",
      "402788/402788 [==============================] - 135s 336us/step - loss: 0.2676 - mae: 0.3977 - val_loss: 0.2693 - val_mae: 0.4025\n",
      "Epoch 69/69\n",
      "402788/402788 [==============================] - 135s 336us/step - loss: 0.2676 - mae: 0.3978 - val_loss: 0.2692 - val_mae: 0.4024\n"
     ]
    }
   ],
   "source": [
    "single_nn = neural_net(\n",
    "    x_train,\n",
    "    y_train,\n",
    "    learning_rate = 0.05,\n",
    "    n_hidden_units = n_hidden_units,\n",
    "    epochs = epochs,\n",
    "    validation_data = (x_dev, y_dev)\n",
    ")"
   ]
  },
  {
   "cell_type": "code",
   "execution_count": 19,
   "metadata": {},
   "outputs": [
    {
     "name": "stdout",
     "output_type": "stream",
     "text": [
      "Model: \"sequential\"\n",
      "_________________________________________________________________\n",
      " Layer (type)                Output Shape              Param #   \n",
      "=================================================================\n",
      " dense (Dense)               (None, 12)                288       \n",
      "                                                                 \n",
      " batch_normalization (Batch  (None, 12)                48        \n",
      " Normalization)                                                  \n",
      "                                                                 \n",
      " activation (Activation)     (None, 12)                0         \n",
      "                                                                 \n",
      " dense_1 (Dense)             (None, 1)                 13        \n",
      "                                                                 \n",
      "=================================================================\n",
      "Total params: 349 (1.36 KB)\n",
      "Trainable params: 325 (1.27 KB)\n",
      "Non-trainable params: 24 (96.00 Byte)\n",
      "_________________________________________________________________\n"
     ]
    }
   ],
   "source": [
    "single_nn.summary()"
   ]
  },
  {
   "cell_type": "markdown",
   "metadata": {},
   "source": [
    "### Deep Neural Network\n",
    "\n",
    "The full model is specified as a deep neural network using layers with ReLU activation functions with a linear activation in the output layer. The choice of number of layers was initially kept small due to computational processing constraints."
   ]
  },
  {
   "cell_type": "code",
   "execution_count": 14,
   "metadata": {},
   "outputs": [
    {
     "name": "stderr",
     "output_type": "stream",
     "text": [
      "WARNING:absl:At this time, the v2.11+ optimizer `tf.keras.optimizers.Adam` runs slowly on M1/M2 Macs, please use the legacy Keras optimizer instead, located at `tf.keras.optimizers.legacy.Adam`.\n"
     ]
    },
    {
     "name": "stdout",
     "output_type": "stream",
     "text": [
      "Epoch 1/69\n",
      "402788/402788 [==============================] - 389s 962us/step - loss: 0.2222 - mae: 0.3527 - val_loss: 0.1862 - val_mae: 0.3292\n",
      "Epoch 2/69\n",
      "402788/402788 [==============================] - 382s 948us/step - loss: 0.1982 - mae: 0.3413 - val_loss: 0.1831 - val_mae: 0.3248\n",
      "Epoch 3/69\n",
      "402788/402788 [==============================] - 381s 947us/step - loss: 0.1971 - mae: 0.3403 - val_loss: 0.1892 - val_mae: 0.3381\n",
      "Epoch 4/69\n",
      "402788/402788 [==============================] - 383s 952us/step - loss: 0.1966 - mae: 0.3398 - val_loss: 0.1864 - val_mae: 0.3343\n",
      "Epoch 5/69\n",
      "402788/402788 [==============================] - 383s 950us/step - loss: 0.1962 - mae: 0.3395 - val_loss: 0.2039 - val_mae: 0.3565\n",
      "Epoch 6/69\n",
      "402788/402788 [==============================] - 383s 950us/step - loss: 0.1960 - mae: 0.3393 - val_loss: 0.1832 - val_mae: 0.3224\n",
      "Epoch 7/69\n",
      "402788/402788 [==============================] - 384s 954us/step - loss: 0.1957 - mae: 0.3390 - val_loss: 0.1817 - val_mae: 0.3187\n",
      "Epoch 8/69\n",
      "402788/402788 [==============================] - 385s 955us/step - loss: 0.1956 - mae: 0.3390 - val_loss: 0.1808 - val_mae: 0.3210\n",
      "Epoch 9/69\n",
      "402788/402788 [==============================] - 385s 956us/step - loss: 0.1954 - mae: 0.3387 - val_loss: 0.1803 - val_mae: 0.3213\n",
      "Epoch 10/69\n",
      "402788/402788 [==============================] - 386s 958us/step - loss: 0.1953 - mae: 0.3387 - val_loss: 0.1843 - val_mae: 0.3258\n",
      "Epoch 11/69\n",
      "402788/402788 [==============================] - 385s 955us/step - loss: 0.1952 - mae: 0.3387 - val_loss: 0.1900 - val_mae: 0.3227\n",
      "Epoch 12/69\n",
      "402788/402788 [==============================] - 385s 957us/step - loss: 0.1951 - mae: 0.3386 - val_loss: 0.1804 - val_mae: 0.3229\n",
      "Epoch 13/69\n",
      "402788/402788 [==============================] - 387s 960us/step - loss: 0.1949 - mae: 0.3384 - val_loss: 0.1797 - val_mae: 0.3206\n",
      "Epoch 14/69\n",
      "402788/402788 [==============================] - 385s 957us/step - loss: 0.1949 - mae: 0.3384 - val_loss: 0.1817 - val_mae: 0.3205\n",
      "Epoch 15/69\n",
      "402788/402788 [==============================] - 386s 958us/step - loss: 0.1949 - mae: 0.3384 - val_loss: 0.1805 - val_mae: 0.3197\n",
      "Epoch 16/69\n",
      "402788/402788 [==============================] - 384s 953us/step - loss: 0.1948 - mae: 0.3383 - val_loss: 0.1807 - val_mae: 0.3214\n",
      "Epoch 17/69\n",
      "402788/402788 [==============================] - 383s 950us/step - loss: 0.1948 - mae: 0.3383 - val_loss: 0.1873 - val_mae: 0.3201\n",
      "Epoch 18/69\n",
      "402788/402788 [==============================] - 387s 961us/step - loss: 0.1947 - mae: 0.3382 - val_loss: 0.1808 - val_mae: 0.3196\n",
      "Epoch 19/69\n",
      "402788/402788 [==============================] - 388s 963us/step - loss: 0.1947 - mae: 0.3382 - val_loss: 0.1835 - val_mae: 0.3218\n",
      "Epoch 20/69\n",
      "402788/402788 [==============================] - 387s 960us/step - loss: 0.1946 - mae: 0.3381 - val_loss: 0.1801 - val_mae: 0.3199\n",
      "Epoch 21/69\n",
      "402788/402788 [==============================] - 383s 951us/step - loss: 0.1946 - mae: 0.3381 - val_loss: 0.1845 - val_mae: 0.3271\n",
      "Epoch 22/69\n",
      "402788/402788 [==============================] - 383s 952us/step - loss: 0.1946 - mae: 0.3381 - val_loss: 0.1931 - val_mae: 0.3416\n",
      "Epoch 23/69\n",
      "402788/402788 [==============================] - 383s 952us/step - loss: 0.1945 - mae: 0.3380 - val_loss: 0.1816 - val_mae: 0.3240\n",
      "Epoch 24/69\n",
      "402788/402788 [==============================] - 383s 951us/step - loss: 0.1944 - mae: 0.3379 - val_loss: 0.1799 - val_mae: 0.3179\n",
      "Epoch 25/69\n",
      "402788/402788 [==============================] - 384s 954us/step - loss: 0.1943 - mae: 0.3379 - val_loss: 0.1918 - val_mae: 0.3378\n",
      "Epoch 26/69\n",
      "402788/402788 [==============================] - 384s 952us/step - loss: 0.1943 - mae: 0.3378 - val_loss: 0.1801 - val_mae: 0.3195\n",
      "Epoch 27/69\n",
      "402788/402788 [==============================] - 384s 952us/step - loss: 0.1941 - mae: 0.3377 - val_loss: 0.1800 - val_mae: 0.3180\n",
      "Epoch 28/69\n",
      "402788/402788 [==============================] - 383s 952us/step - loss: 0.1942 - mae: 0.3377 - val_loss: 0.1799 - val_mae: 0.3219\n",
      "Epoch 29/69\n",
      "402788/402788 [==============================] - 384s 954us/step - loss: 0.1942 - mae: 0.3377 - val_loss: 0.1808 - val_mae: 0.3195\n",
      "Epoch 30/69\n",
      "402788/402788 [==============================] - 386s 958us/step - loss: 0.1943 - mae: 0.3378 - val_loss: 0.1808 - val_mae: 0.3244\n",
      "Epoch 31/69\n",
      "402788/402788 [==============================] - 386s 960us/step - loss: 0.1940 - mae: 0.3375 - val_loss: 0.1788 - val_mae: 0.3193\n",
      "Epoch 32/69\n",
      "402788/402788 [==============================] - 387s 962us/step - loss: 0.1939 - mae: 0.3375 - val_loss: 0.1803 - val_mae: 0.3239\n",
      "Epoch 33/69\n",
      "402788/402788 [==============================] - 386s 959us/step - loss: 0.1938 - mae: 0.3375 - val_loss: 0.1789 - val_mae: 0.3165\n",
      "Epoch 34/69\n",
      "402788/402788 [==============================] - 386s 959us/step - loss: 0.1936 - mae: 0.3372 - val_loss: 0.1817 - val_mae: 0.3220\n",
      "Epoch 35/69\n",
      "402788/402788 [==============================] - 385s 956us/step - loss: 0.1937 - mae: 0.3373 - val_loss: 0.1788 - val_mae: 0.3226\n",
      "Epoch 36/69\n",
      "402788/402788 [==============================] - 392s 973us/step - loss: 0.1937 - mae: 0.3373 - val_loss: 0.1804 - val_mae: 0.3229\n",
      "Epoch 37/69\n",
      "402788/402788 [==============================] - 396s 983us/step - loss: 0.1936 - mae: 0.3372 - val_loss: 0.1801 - val_mae: 0.3207\n",
      "Epoch 38/69\n",
      "402788/402788 [==============================] - 385s 955us/step - loss: 0.1936 - mae: 0.3372 - val_loss: 0.1797 - val_mae: 0.3225\n",
      "Epoch 39/69\n",
      "402788/402788 [==============================] - 383s 952us/step - loss: 0.1935 - mae: 0.3371 - val_loss: 0.1912 - val_mae: 0.3409\n",
      "Epoch 40/69\n",
      "402788/402788 [==============================] - 384s 954us/step - loss: 0.1936 - mae: 0.3373 - val_loss: 0.1802 - val_mae: 0.3229\n",
      "Epoch 41/69\n",
      "402788/402788 [==============================] - 385s 956us/step - loss: 0.1935 - mae: 0.3371 - val_loss: 0.1791 - val_mae: 0.3194\n",
      "Epoch 42/69\n",
      "402788/402788 [==============================] - 386s 958us/step - loss: 0.1935 - mae: 0.3371 - val_loss: 0.1785 - val_mae: 0.3197\n",
      "Epoch 43/69\n",
      "402788/402788 [==============================] - 382s 948us/step - loss: 0.1934 - mae: 0.3370 - val_loss: 0.1803 - val_mae: 0.3199\n",
      "Epoch 44/69\n",
      "402788/402788 [==============================] - 381s 946us/step - loss: 0.1935 - mae: 0.3371 - val_loss: 0.1806 - val_mae: 0.3257\n",
      "Epoch 45/69\n",
      "402788/402788 [==============================] - 380s 944us/step - loss: 0.1933 - mae: 0.3370 - val_loss: 0.1823 - val_mae: 0.3258\n",
      "Epoch 46/69\n",
      "402788/402788 [==============================] - 381s 947us/step - loss: 0.1934 - mae: 0.3370 - val_loss: 0.1791 - val_mae: 0.3197\n",
      "Epoch 47/69\n",
      "402788/402788 [==============================] - 381s 946us/step - loss: 0.1934 - mae: 0.3370 - val_loss: 0.1868 - val_mae: 0.3346\n",
      "Epoch 48/69\n",
      "402788/402788 [==============================] - 381s 947us/step - loss: 0.1933 - mae: 0.3369 - val_loss: 0.1787 - val_mae: 0.3179\n",
      "Epoch 49/69\n",
      "402788/402788 [==============================] - 383s 952us/step - loss: 0.1932 - mae: 0.3368 - val_loss: 0.1787 - val_mae: 0.3181\n",
      "Epoch 50/69\n",
      "402788/402788 [==============================] - 383s 952us/step - loss: 0.1932 - mae: 0.3368 - val_loss: 0.1783 - val_mae: 0.3178\n",
      "Epoch 51/69\n",
      "402788/402788 [==============================] - 383s 951us/step - loss: 0.1931 - mae: 0.3367 - val_loss: 0.1796 - val_mae: 0.3216\n",
      "Epoch 52/69\n",
      "402788/402788 [==============================] - 384s 952us/step - loss: 0.1932 - mae: 0.3367 - val_loss: 0.1836 - val_mae: 0.3172\n",
      "Epoch 53/69\n",
      "402788/402788 [==============================] - 383s 951us/step - loss: 0.1931 - mae: 0.3367 - val_loss: 0.1813 - val_mae: 0.3200\n",
      "Epoch 54/69\n",
      "402788/402788 [==============================] - 382s 949us/step - loss: 0.1930 - mae: 0.3366 - val_loss: 0.1814 - val_mae: 0.3256\n",
      "Epoch 55/69\n",
      "402788/402788 [==============================] - 382s 948us/step - loss: 0.1930 - mae: 0.3366 - val_loss: 0.1796 - val_mae: 0.3163\n",
      "Epoch 56/69\n",
      "402788/402788 [==============================] - 384s 954us/step - loss: 0.1930 - mae: 0.3366 - val_loss: 0.1772 - val_mae: 0.3163\n",
      "Epoch 57/69\n",
      "402788/402788 [==============================] - 383s 952us/step - loss: 0.1929 - mae: 0.3366 - val_loss: 0.1785 - val_mae: 0.3182\n",
      "Epoch 58/69\n",
      "402788/402788 [==============================] - 384s 953us/step - loss: 0.1930 - mae: 0.3366 - val_loss: 0.1778 - val_mae: 0.3156\n",
      "Epoch 59/69\n",
      "402788/402788 [==============================] - 383s 951us/step - loss: 0.1929 - mae: 0.3365 - val_loss: 0.1775 - val_mae: 0.3210\n",
      "Epoch 60/69\n",
      "402788/402788 [==============================] - 382s 949us/step - loss: 0.1930 - mae: 0.3366 - val_loss: 0.1801 - val_mae: 0.3206\n",
      "Epoch 61/69\n",
      "402788/402788 [==============================] - 383s 950us/step - loss: 0.1929 - mae: 0.3366 - val_loss: 0.1802 - val_mae: 0.3246\n",
      "Epoch 62/69\n",
      "402788/402788 [==============================] - 382s 949us/step - loss: 0.1929 - mae: 0.3365 - val_loss: 0.1781 - val_mae: 0.3185\n",
      "Epoch 63/69\n",
      "402788/402788 [==============================] - 380s 943us/step - loss: 0.1928 - mae: 0.3365 - val_loss: 0.1794 - val_mae: 0.3230\n",
      "Epoch 64/69\n",
      "402788/402788 [==============================] - 380s 944us/step - loss: 0.1929 - mae: 0.3366 - val_loss: 0.1832 - val_mae: 0.3293\n",
      "Epoch 65/69\n",
      "402788/402788 [==============================] - 380s 944us/step - loss: 0.1928 - mae: 0.3365 - val_loss: 0.1840 - val_mae: 0.3325\n",
      "Epoch 66/69\n",
      "402788/402788 [==============================] - 380s 944us/step - loss: 0.1928 - mae: 0.3365 - val_loss: 0.1798 - val_mae: 0.3198\n",
      "Epoch 67/69\n",
      "402788/402788 [==============================] - 380s 944us/step - loss: 0.1927 - mae: 0.3364 - val_loss: 0.1776 - val_mae: 0.3168\n",
      "Epoch 68/69\n",
      "402788/402788 [==============================] - 383s 950us/step - loss: 0.1928 - mae: 0.3364 - val_loss: 0.1856 - val_mae: 0.3321\n",
      "Epoch 69/69\n",
      "402788/402788 [==============================] - 384s 954us/step - loss: 0.1927 - mae: 0.3363 - val_loss: 0.1807 - val_mae: 0.3254\n"
     ]
    }
   ],
   "source": [
    "deep_nn = neural_net(\n",
    "    x_train,\n",
    "    y_train,\n",
    "    n_layers = 10,\n",
    "    n_hidden_units = n_hidden_units,\n",
    "    epochs = epochs,\n",
    "    validation_data = (x_dev, y_dev)\n",
    ")"
   ]
  },
  {
   "cell_type": "code",
   "execution_count": 18,
   "metadata": {},
   "outputs": [
    {
     "name": "stdout",
     "output_type": "stream",
     "text": [
      "Model: \"sequential_1\"\n",
      "_________________________________________________________________\n",
      " Layer (type)                Output Shape              Param #   \n",
      "=================================================================\n",
      " dense_2 (Dense)             (None, 12)                288       \n",
      "                                                                 \n",
      " batch_normalization_1 (Bat  (None, 12)                48        \n",
      " chNormalization)                                                \n",
      "                                                                 \n",
      " activation_1 (Activation)   (None, 12)                0         \n",
      "                                                                 \n",
      " dense_3 (Dense)             (None, 12)                156       \n",
      "                                                                 \n",
      " batch_normalization_2 (Bat  (None, 12)                48        \n",
      " chNormalization)                                                \n",
      "                                                                 \n",
      " activation_2 (Activation)   (None, 12)                0         \n",
      "                                                                 \n",
      " dense_4 (Dense)             (None, 12)                156       \n",
      "                                                                 \n",
      " batch_normalization_3 (Bat  (None, 12)                48        \n",
      " chNormalization)                                                \n",
      "                                                                 \n",
      " activation_3 (Activation)   (None, 12)                0         \n",
      "                                                                 \n",
      " dense_5 (Dense)             (None, 12)                156       \n",
      "                                                                 \n",
      " batch_normalization_4 (Bat  (None, 12)                48        \n",
      " chNormalization)                                                \n",
      "                                                                 \n",
      " activation_4 (Activation)   (None, 12)                0         \n",
      "                                                                 \n",
      " dense_6 (Dense)             (None, 12)                156       \n",
      "                                                                 \n",
      " batch_normalization_5 (Bat  (None, 12)                48        \n",
      " chNormalization)                                                \n",
      "                                                                 \n",
      " activation_5 (Activation)   (None, 12)                0         \n",
      "                                                                 \n",
      " dense_7 (Dense)             (None, 12)                156       \n",
      "                                                                 \n",
      " batch_normalization_6 (Bat  (None, 12)                48        \n",
      " chNormalization)                                                \n",
      "                                                                 \n",
      " activation_6 (Activation)   (None, 12)                0         \n",
      "                                                                 \n",
      " dense_8 (Dense)             (None, 12)                156       \n",
      "                                                                 \n",
      " batch_normalization_7 (Bat  (None, 12)                48        \n",
      " chNormalization)                                                \n",
      "                                                                 \n",
      " activation_7 (Activation)   (None, 12)                0         \n",
      "                                                                 \n",
      " dense_9 (Dense)             (None, 12)                156       \n",
      "                                                                 \n",
      " batch_normalization_8 (Bat  (None, 12)                48        \n",
      " chNormalization)                                                \n",
      "                                                                 \n",
      " activation_8 (Activation)   (None, 12)                0         \n",
      "                                                                 \n",
      " dense_10 (Dense)            (None, 12)                156       \n",
      "                                                                 \n",
      " batch_normalization_9 (Bat  (None, 12)                48        \n",
      " chNormalization)                                                \n",
      "                                                                 \n",
      " activation_9 (Activation)   (None, 12)                0         \n",
      "                                                                 \n",
      " dense_11 (Dense)            (None, 12)                156       \n",
      "                                                                 \n",
      " batch_normalization_10 (Ba  (None, 12)                48        \n",
      " tchNormalization)                                               \n",
      "                                                                 \n",
      " activation_10 (Activation)  (None, 12)                0         \n",
      "                                                                 \n",
      " dense_12 (Dense)            (None, 1)                 13        \n",
      "                                                                 \n",
      "=================================================================\n",
      "Total params: 2185 (8.54 KB)\n",
      "Trainable params: 1945 (7.60 KB)\n",
      "Non-trainable params: 240 (960.00 Byte)\n",
      "_________________________________________________________________\n"
     ]
    }
   ],
   "source": [
    "deep_nn.summary()"
   ]
  },
  {
   "cell_type": "markdown",
   "metadata": {},
   "source": [
    "## Results"
   ]
  },
  {
   "cell_type": "code",
   "execution_count": 20,
   "metadata": {},
   "outputs": [
    {
     "data": {
      "image/png": "[encoded data removed]",
      "text/plain": [
       "<Figure size 640x480 with 1 Axes>"
      ]
     },
     "metadata": {},
     "output_type": "display_data"
    }
   ],
   "source": [
    "nn_dict = {\n",
    "    # 'NN - 1 layer': single_nn.history.history['loss'],\n",
    "    'NN - 10 layers': deep_nn.history.history['loss']\n",
    "}\n",
    "baseline_dict = {\n",
    "    'Random Forest': rfr_mse,\n",
    "    # 'Random Forest (tuned)': rfr_t_mse,\n",
    "    'XGBoost': xgb_mse\n",
    "}\n",
    "\n",
    "generate_plot(nn_dict, baseline_dict, save=True, name='model_mse_240120.png')"
   ]
  },
  {
   "cell_type": "markdown",
   "metadata": {},
   "source": [
    "### Calculating marginal valuation of environmental attributes\n",
    "\n",
    "Once we have a model with environmental attributes as features and log of house price as the target variable, we can begin to construct the marginal willingness to pay for environmental attributes, and therefore get a proxy for their value.\n",
    "\n",
    "The partial derivative of `ln_price` w.r.t an input variable can be evaluated during the backwards propagation stage of the model fitting. By evaluating this derivative at a variety of samples, we can plot a valulation curve for the change in $ln(price)$ for a change in the input feature by 1 standard deviation."
   ]
  },
  {
   "cell_type": "code",
   "execution_count": 41,
   "metadata": {},
   "outputs": [
    {
     "data": {
      "image/png": "[encoded data removed]",
      "text/plain": [
       "<Figure size 640x480 with 1 Axes>"
      ]
     },
     "metadata": {},
     "output_type": "display_data"
    }
   ],
   "source": [
    "# extract the gradients from the model\n",
    "points = np.arange(-3, 4, 1)\n",
    "gradients = calc_partial_grad(\n",
    "    deep_nn,\n",
    "    x_dev,\n",
    "    derivative_index,\n",
    "    points)\n",
    "gradients.shape\n",
    "\n",
    "plot_partial_grads(gradients, points, derivative_index, save=True, name='partial_grads_240206.png')"
   ]
  },
  {
   "cell_type": "code",
   "execution_count": 40,
   "metadata": {},
   "outputs": [],
   "source": [
    "def plot_partial_grads(\n",
    "        gradients: np.ndarray,\n",
    "        points_to_eval: np.ndarray,\n",
    "        derivative_index: zip\n",
    "):\n",
    "    \"\"\"\n",
    "    This function takes the partial gradient\n",
    "    array and plots each features partial gradient\n",
    "    curve over the range of points to eval\n",
    "    \"\"\"\n",
    "    for col, (label, old_index) in enumerate(derivative_index):\n",
    "        y_values = gradients[:, col]\n",
    "        plt.plot(points_to_eval, y_values, label=label)\n",
    "    plt.xlabel('Change in x_i')\n",
    "    plt.ylabel('Change in ln(price)')\n",
    "    plt.title('Partial derivative curves for selected features')\n",
    "    plt.legend(loc='upper right', bbox_to_anchor=(1.5, 1))\n",
    "\n",
    "    plt.show()"
   ]
  },
  {
   "cell_type": "markdown",
   "metadata": {},
   "source": [
    "### Saving models\n",
    "\n",
    "Here we save the pre-trained models so they can be loaded and used."
   ]
  },
  {
   "cell_type": "code",
   "execution_count": 22,
   "metadata": {},
   "outputs": [],
   "source": [
    "model_dir = cwd / \"outputs\" / \"models\"\n",
    "\n",
    "# save models as tensor objects\n",
    "deep_nn.save(model_dir / \"nn_layers_10.keras\")\n",
    "single_nn.save(model_dir / \"nn_layers_1.keras\")\n",
    "\n",
    "# save models as joblib files\n",
    "# joblib.dump(rfr_model, model_dir / \"random_forest.joblib\")\n",
    "# joblib.dump(rfr_t_model, model_dir / \"random_forest_tuned.joblib\")\n",
    "# joblib.dump(xgb_model, model_dir / \"xgboost.joblib\")"
   ]
  }
 ],
 "metadata": {
  "kernelspec": {
   "display_name": "Python 3",
   "language": "python",
   "name": "python3"
  },
  "language_info": {
   "codemirror_mode": {
    "name": "ipython",
    "version": 3
   },
   "file_extension": ".py",
   "mimetype": "text/x-python",
   "name": "python",
   "nbconvert_exporter": "python",
   "pygments_lexer": "ipython3",
   "version": "3.10.13"
  },
  "orig_nbformat": 4
 },
 "nbformat": 4,
 "nbformat_minor": 2
}
