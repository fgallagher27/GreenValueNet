{
 "cells": [
  {
   "cell_type": "markdown",
   "metadata": {},
   "source": [
    "# GreenValueNet\n",
    "\n",
    "This notebook contains the code needed to execute the GreenValueNet hedonic pricing neural network. "
   ]
  },
  {
   "cell_type": "markdown",
   "metadata": {},
   "source": [
    "### Set up and data loading"
   ]
  },
  {
   "cell_type": "code",
   "execution_count": 1,
   "metadata": {},
   "outputs": [],
   "source": [
    "import joblib\n",
    "import keras\n",
    "import matplotlib.pyplot as plt\n",
    "from pathlib import Path\n",
    "from sklearn.metrics import mean_squared_error\n",
    "from data_load_funcs import get_params, load_data_catalogue\n",
    "from processing_funcs import process_data, normalise_values\n",
    "from model_funcs import *\n",
    "\n",
    "cwd = Path.cwd()\n",
    "params = get_params()\n",
    "data_catalogue = load_data_catalogue()"
   ]
  },
  {
   "cell_type": "markdown",
   "metadata": {},
   "source": [
    "The `dataset.csv` file from `data/interim_files` is loaded if it already exists, or constructed if not. To build the dataset please follow the steps in [Annex 1 of the ReadMe file](readme.md#annex-1) to esnure all relevant files have been downloaded. "
   ]
  },
  {
   "cell_type": "code",
   "execution_count": 2,
   "metadata": {},
   "outputs": [
    {
     "name": "stdout",
     "output_type": "stream",
     "text": [
      "Processed dataset already exists.\n",
      "Loading exisitng dataset...\n",
      "                                  Mean    Std Dev       Maximum   Minimum\n",
      "ln_price                     12.393713   0.658136     18.134158  0.116855\n",
      "propertytype                  1.328094   1.085676      3.000000  0.000000\n",
      "oldnew                        0.134435   0.341119      1.000000  0.000000\n",
      "duration                      0.325202   0.468482      2.000000  0.000000\n",
      "current_energy_efficiency    61.056443  12.444568    347.000000  0.000000\n",
      "potential_energy_efficiency   0.805024   0.140106      1.000000  0.000000\n",
      "total_floor_area             91.622326  68.669650  60506.700000  0.000000\n",
      "extension_count               0.495053   0.743755      4.000000  0.000000\n",
      "number_habitable_rooms        4.521529   1.748808    100.000000  0.000000\n",
      "number_heated_rooms           4.437662   1.754007    100.000000  0.000000\n",
      "construction_age_band         4.477500   3.153767     10.000000 -1.000000\n",
      "coastline_dist               57.173176  38.518186    144.036327  0.004453\n",
      "prim_school_dist              0.846688   0.763455     19.868981  0.000000\n",
      "sec_school_dist               2.576883   2.873106     82.942021  0.000000\n",
      "roads_dist                    1.081792   1.578059     28.161536  0.000346\n",
      "nat_park_dist                77.727576  48.713587    265.390815  0.000000\n",
      "nat_trust_dist               22.852628  21.907702    142.965575  0.000000\n",
      "ttwa_dist                     0.000328   0.009237      0.673083  0.000000\n",
      "dom_builds_share              0.067904   0.052405      0.311189  0.000168\n",
      "garden_share                  0.195073   0.134780      0.628869  0.000000\n",
      "non_dom_builds_share          0.033796   0.040105      0.495773  0.000082\n",
      "path_share                    0.006395   0.006409      0.070791  0.000000\n",
      "greenspace_share              0.512138   0.279680      0.989144  0.012036\n",
      "water_share                   0.027889   0.074272      0.871968  0.000000\n"
     ]
    }
   ],
   "source": [
    "dataset = process_data(data_catalogue, params)\n",
    "\n",
    "# show summary stats\n",
    "summary_stats = dataset.describe().transpose()[['mean', 'std', 'max', 'min']]\n",
    "summary_stats.columns = ['Mean', 'Std Dev', 'Maximum', 'Minimum']\n",
    "print(summary_stats)"
   ]
  },
  {
   "cell_type": "code",
   "execution_count": 3,
   "metadata": {},
   "outputs": [
    {
     "name": "stdout",
     "output_type": "stream",
     "text": [
      "(12909200, 26)\n",
      "transactionid                  0\n",
      "ln_price                       0\n",
      "postcode                       0\n",
      "propertytype                   0\n",
      "oldnew                         0\n",
      "duration                       0\n",
      "current_energy_efficiency      0\n",
      "potential_energy_efficiency    0\n",
      "total_floor_area               0\n",
      "extension_count                0\n",
      "number_habitable_rooms         0\n",
      "number_heated_rooms            0\n",
      "construction_age_band          0\n",
      "coastline_dist                 0\n",
      "prim_school_dist               0\n",
      "sec_school_dist                0\n",
      "roads_dist                     0\n",
      "nat_park_dist                  0\n",
      "nat_trust_dist                 0\n",
      "ttwa_dist                      0\n",
      "dom_builds_share               0\n",
      "garden_share                   0\n",
      "non_dom_builds_share           0\n",
      "path_share                     0\n",
      "greenspace_share               0\n",
      "water_share                    0\n",
      "dtype: int64\n"
     ]
    }
   ],
   "source": [
    "print(dataset.shape)\n",
    "print(dataset.isnull().sum())"
   ]
  },
  {
   "cell_type": "markdown",
   "metadata": {},
   "source": [
    "Now we normalise any non-encoded variables to increase speed of learning of algorithm and convert the dataset to an array of inputs, and an associated output array."
   ]
  },
  {
   "cell_type": "code",
   "execution_count": 4,
   "metadata": {},
   "outputs": [],
   "source": [
    "norm_cols = [col for col in dataset.columns if col not in params['non_norm_cols']]\n",
    "for col in norm_cols:\n",
    "    dataset[col] = normalise_values(dataset[col])\n",
    "\n",
    "# creates an input array of shape m,x and an output array of shape m\n",
    "x, y, derivative_index = create_x_y_arr(dataset, params)"
   ]
  },
  {
   "cell_type": "markdown",
   "metadata": {},
   "source": [
    "The dataset is then split into train, dev and test sets using sci-kit learn."
   ]
  },
  {
   "cell_type": "code",
   "execution_count": 5,
   "metadata": {},
   "outputs": [],
   "source": [
    "x_train, x_dev, x_test, y_train, y_dev, y_test = split_to_test_dev_train(\n",
    "    x,\n",
    "    y,\n",
    "    params['dev_size'],\n",
    "    params['test_size'],\n",
    "    prop=False\n",
    ")"
   ]
  },
  {
   "cell_type": "markdown",
   "metadata": {},
   "source": [
    "## Benchmarking\n",
    "\n",
    "To evaluate the performance of my neural network we use random forest and XGBoost regressions as baseline models. We optimise based on the mean squared error (MSE) and report this as our measure of performance."
   ]
  },
  {
   "cell_type": "markdown",
   "metadata": {},
   "source": [
    "### Random Forest\n"
   ]
  },
  {
   "cell_type": "code",
   "execution_count": 6,
   "metadata": {},
   "outputs": [],
   "source": [
    "# run baseline random forest regression using scikit-learn\n",
    "rf_hp_space = params['tuning_dict']['rf_space']\n",
    "rfr_model = baseline_model(\n",
    "    x_train,\n",
    "    y_train,\n",
    "    RandomForestRegressor,\n",
    "    tuning=False,\n",
    "    tuning_params=rf_hp_space,\n",
    "    tuning_iter=params['tuning_dict']['n_iter']\n",
    ")\n",
    "\n",
    "# generate predictions and measure according to mean squared error\n",
    "rfr_pred, rfr_mse = generate_pred_metric(rfr_model, mean_squared_error, x_dev, y_dev)"
   ]
  },
  {
   "cell_type": "markdown",
   "metadata": {},
   "source": [
    "### XGBoost"
   ]
  },
  {
   "cell_type": "code",
   "execution_count": 7,
   "metadata": {},
   "outputs": [],
   "source": [
    "# run baseline gradient boosting regression using scikit-learn\n",
    "xg_hp_space = params['tuning_dict']['xg_space']\n",
    "xgb_model = baseline_model(\n",
    "    x_train,\n",
    "    y_train,\n",
    "    HistGradientBoostingRegressor,\n",
    "    tuning=True,\n",
    "    tuning_params=xg_hp_space,\n",
    "    tuning_iter=params['tuning_dict']['n_iter']\n",
    ")\n",
    "\n",
    "# generate predictions and measure according to mean squared error\n",
    "xgb_pred, xgb_mse = generate_pred_metric(xgb_model, mean_squared_error, x_dev, y_dev)"
   ]
  },
  {
   "cell_type": "markdown",
   "metadata": {},
   "source": [
    "## Neural networks\n",
    "\n",
    "We know build some neural networks. Number of epochs, hidden layers, and nodes in hidden layers is initially set with rules of thumb but then optimiszed using hyperparameter tuning."
   ]
  },
  {
   "cell_type": "code",
   "execution_count": 8,
   "metadata": {},
   "outputs": [],
   "source": [
    "# set epochs to be 3 times number of features\n",
    "epochs = int(x_train.shape[1]) * 3\n",
    "\n",
    "# set n_hidden_units to be mean of input and output layer sizes\n",
    "n_hidden_units = round((x_train.shape[1] + 1) / 2)"
   ]
  },
  {
   "cell_type": "markdown",
   "metadata": {},
   "source": [
    "### Single Layer Neural Network\n",
    "\n",
    "A single hidden layer with ReLU activation is used with a linear output layer."
   ]
  },
  {
   "cell_type": "code",
   "execution_count": 9,
   "metadata": {},
   "outputs": [
    {
     "name": "stderr",
     "output_type": "stream",
     "text": [
      "WARNING:absl:At this time, the v2.11+ optimizer `tf.keras.optimizers.Adam` runs slowly on M1/M2 Macs, please use the legacy Keras optimizer instead, located at `tf.keras.optimizers.legacy.Adam`.\n"
     ]
    },
    {
     "name": "stdout",
     "output_type": "stream",
     "text": [
      "Epoch 1/69\n",
      "402788/402788 [==============================] - 140s 346us/step - loss: 0.2663 - mae: 0.3948 - val_loss: 0.2746 - val_mae: 0.4117\n",
      "Epoch 2/69\n",
      "402788/402788 [==============================] - 139s 344us/step - loss: 0.2678 - mae: 0.3979 - val_loss: 0.2522 - val_mae: 0.3813\n",
      "Epoch 3/69\n",
      "402788/402788 [==============================] - 140s 347us/step - loss: 0.2676 - mae: 0.3978 - val_loss: 0.2577 - val_mae: 0.3846\n",
      "Epoch 4/69\n",
      "402788/402788 [==============================] - 137s 341us/step - loss: 0.2677 - mae: 0.3978 - val_loss: 0.2544 - val_mae: 0.3930\n",
      "Epoch 5/69\n",
      "402788/402788 [==============================] - 137s 340us/step - loss: 0.2678 - mae: 0.3979 - val_loss: 0.2621 - val_mae: 0.3871\n",
      "Epoch 6/69\n",
      "402788/402788 [==============================] - 137s 340us/step - loss: 0.2675 - mae: 0.3977 - val_loss: 0.2500 - val_mae: 0.3810\n",
      "Epoch 7/69\n",
      "402788/402788 [==============================] - 137s 340us/step - loss: 0.2676 - mae: 0.3977 - val_loss: 0.2524 - val_mae: 0.3833\n",
      "Epoch 8/69\n",
      "402788/402788 [==============================] - 138s 342us/step - loss: 0.2676 - mae: 0.3978 - val_loss: 0.2502 - val_mae: 0.3875\n",
      "Epoch 9/69\n",
      "402788/402788 [==============================] - 137s 340us/step - loss: 0.2675 - mae: 0.3977 - val_loss: 0.2565 - val_mae: 0.3847\n",
      "Epoch 10/69\n",
      "402788/402788 [==============================] - 137s 341us/step - loss: 0.2677 - mae: 0.3978 - val_loss: 0.2499 - val_mae: 0.3812\n",
      "Epoch 11/69\n",
      "402788/402788 [==============================] - 137s 340us/step - loss: 0.2678 - mae: 0.3979 - val_loss: 0.2581 - val_mae: 0.3964\n",
      "Epoch 12/69\n",
      "402788/402788 [==============================] - 138s 343us/step - loss: 0.2675 - mae: 0.3977 - val_loss: 0.2489 - val_mae: 0.3854\n",
      "Epoch 13/69\n",
      "402788/402788 [==============================] - 137s 341us/step - loss: 0.2676 - mae: 0.3978 - val_loss: 0.2557 - val_mae: 0.3938\n",
      "Epoch 14/69\n",
      "402788/402788 [==============================] - 137s 340us/step - loss: 0.2676 - mae: 0.3977 - val_loss: 0.2503 - val_mae: 0.3829\n",
      "Epoch 15/69\n",
      "402788/402788 [==============================] - 137s 341us/step - loss: 0.2676 - mae: 0.3978 - val_loss: 0.2691 - val_mae: 0.4074\n",
      "Epoch 16/69\n",
      "402788/402788 [==============================] - 137s 341us/step - loss: 0.2676 - mae: 0.3978 - val_loss: 0.2498 - val_mae: 0.3802\n",
      "Epoch 17/69\n",
      "402788/402788 [==============================] - 138s 343us/step - loss: 0.2675 - mae: 0.3977 - val_loss: 0.2485 - val_mae: 0.3853\n",
      "Epoch 18/69\n",
      "402788/402788 [==============================] - 138s 342us/step - loss: 0.2676 - mae: 0.3978 - val_loss: 0.2671 - val_mae: 0.4036\n",
      "Epoch 19/69\n",
      "402788/402788 [==============================] - 138s 342us/step - loss: 0.2676 - mae: 0.3978 - val_loss: 0.2539 - val_mae: 0.3823\n",
      "Epoch 20/69\n",
      "402788/402788 [==============================] - 138s 341us/step - loss: 0.2677 - mae: 0.3978 - val_loss: 0.2731 - val_mae: 0.3942\n",
      "Epoch 21/69\n",
      "402788/402788 [==============================] - 137s 340us/step - loss: 0.2676 - mae: 0.3978 - val_loss: 0.2475 - val_mae: 0.3836\n",
      "Epoch 22/69\n",
      "402788/402788 [==============================] - 138s 342us/step - loss: 0.2676 - mae: 0.3978 - val_loss: 0.2534 - val_mae: 0.3893\n",
      "Epoch 23/69\n",
      "402788/402788 [==============================] - 138s 342us/step - loss: 0.2676 - mae: 0.3978 - val_loss: 0.2508 - val_mae: 0.3881\n",
      "Epoch 24/69\n",
      "402788/402788 [==============================] - 138s 341us/step - loss: 0.2677 - mae: 0.3978 - val_loss: 0.2600 - val_mae: 0.3856\n",
      "Epoch 25/69\n",
      "402788/402788 [==============================] - 137s 341us/step - loss: 0.2676 - mae: 0.3977 - val_loss: 0.2755 - val_mae: 0.3948\n",
      "Epoch 26/69\n",
      "402788/402788 [==============================] - 137s 341us/step - loss: 0.2675 - mae: 0.3977 - val_loss: 0.2494 - val_mae: 0.3862\n",
      "Epoch 27/69\n",
      "402788/402788 [==============================] - 137s 341us/step - loss: 0.2676 - mae: 0.3978 - val_loss: 0.2706 - val_mae: 0.4085\n",
      "Epoch 28/69\n",
      "402788/402788 [==============================] - 138s 342us/step - loss: 0.2676 - mae: 0.3977 - val_loss: 0.2741 - val_mae: 0.3938\n",
      "Epoch 29/69\n",
      "402788/402788 [==============================] - 137s 341us/step - loss: 0.2676 - mae: 0.3978 - val_loss: 0.2551 - val_mae: 0.3912\n",
      "Epoch 30/69\n",
      "402788/402788 [==============================] - 137s 340us/step - loss: 0.2677 - mae: 0.3978 - val_loss: 0.2551 - val_mae: 0.3826\n",
      "Epoch 31/69\n",
      "402788/402788 [==============================] - 137s 341us/step - loss: 0.2676 - mae: 0.3978 - val_loss: 0.2572 - val_mae: 0.3839\n",
      "Epoch 32/69\n",
      "402788/402788 [==============================] - 137s 340us/step - loss: 0.2675 - mae: 0.3977 - val_loss: 0.2712 - val_mae: 0.4098\n",
      "Epoch 33/69\n",
      "402788/402788 [==============================] - 137s 340us/step - loss: 0.2676 - mae: 0.3978 - val_loss: 0.2502 - val_mae: 0.3877\n",
      "Epoch 34/69\n",
      "402788/402788 [==============================] - 140s 347us/step - loss: 0.2677 - mae: 0.3978 - val_loss: 0.2476 - val_mae: 0.3836\n",
      "Epoch 35/69\n",
      "402788/402788 [==============================] - 137s 341us/step - loss: 0.2676 - mae: 0.3977 - val_loss: 0.2741 - val_mae: 0.4143\n",
      "Epoch 36/69\n",
      "402788/402788 [==============================] - 137s 340us/step - loss: 0.2676 - mae: 0.3978 - val_loss: 0.2509 - val_mae: 0.3813\n",
      "Epoch 37/69\n",
      "402788/402788 [==============================] - 137s 340us/step - loss: 0.2677 - mae: 0.3979 - val_loss: 0.2501 - val_mae: 0.3860\n",
      "Epoch 38/69\n",
      "402788/402788 [==============================] - 137s 341us/step - loss: 0.2676 - mae: 0.3977 - val_loss: 0.2484 - val_mae: 0.3841\n",
      "Epoch 39/69\n",
      "402788/402788 [==============================] - 137s 340us/step - loss: 0.2675 - mae: 0.3977 - val_loss: 0.2501 - val_mae: 0.3850\n",
      "Epoch 40/69\n",
      "402788/402788 [==============================] - 137s 340us/step - loss: 0.2677 - mae: 0.3978 - val_loss: 0.2696 - val_mae: 0.3919\n",
      "Epoch 41/69\n",
      "402788/402788 [==============================] - 137s 341us/step - loss: 0.2675 - mae: 0.3977 - val_loss: 0.2490 - val_mae: 0.3863\n",
      "Epoch 42/69\n",
      "402788/402788 [==============================] - 137s 341us/step - loss: 0.2675 - mae: 0.3977 - val_loss: 0.2481 - val_mae: 0.3850\n",
      "Epoch 43/69\n",
      "402788/402788 [==============================] - 137s 341us/step - loss: 0.2677 - mae: 0.3978 - val_loss: 0.2563 - val_mae: 0.3858\n",
      "Epoch 44/69\n",
      "402788/402788 [==============================] - 137s 341us/step - loss: 0.2677 - mae: 0.3978 - val_loss: 0.2481 - val_mae: 0.3837\n",
      "Epoch 45/69\n",
      "402788/402788 [==============================] - 138s 342us/step - loss: 0.2675 - mae: 0.3977 - val_loss: 0.2574 - val_mae: 0.3864\n",
      "Epoch 46/69\n",
      "402788/402788 [==============================] - 137s 341us/step - loss: 0.2676 - mae: 0.3978 - val_loss: 0.2492 - val_mae: 0.3847\n",
      "Epoch 47/69\n",
      "402788/402788 [==============================] - 137s 340us/step - loss: 0.2676 - mae: 0.3978 - val_loss: 0.2846 - val_mae: 0.4225\n",
      "Epoch 48/69\n",
      "402788/402788 [==============================] - 137s 341us/step - loss: 0.2676 - mae: 0.3977 - val_loss: 0.2586 - val_mae: 0.3847\n",
      "Epoch 49/69\n",
      "402788/402788 [==============================] - 138s 342us/step - loss: 0.2677 - mae: 0.3979 - val_loss: 0.2491 - val_mae: 0.3864\n",
      "Epoch 50/69\n",
      "402788/402788 [==============================] - 138s 342us/step - loss: 0.2676 - mae: 0.3978 - val_loss: 0.2611 - val_mae: 0.3914\n",
      "Epoch 51/69\n",
      "402788/402788 [==============================] - 138s 342us/step - loss: 0.2677 - mae: 0.3979 - val_loss: 0.2516 - val_mae: 0.3883\n",
      "Epoch 52/69\n",
      "402788/402788 [==============================] - 138s 342us/step - loss: 0.2675 - mae: 0.3977 - val_loss: 0.2505 - val_mae: 0.3848\n",
      "Epoch 53/69\n",
      "402788/402788 [==============================] - 137s 341us/step - loss: 0.2676 - mae: 0.3978 - val_loss: 0.2822 - val_mae: 0.4164\n",
      "Epoch 54/69\n",
      "402788/402788 [==============================] - 137s 341us/step - loss: 0.2676 - mae: 0.3978 - val_loss: 0.2529 - val_mae: 0.3914\n",
      "Epoch 55/69\n",
      "402788/402788 [==============================] - 138s 342us/step - loss: 0.2675 - mae: 0.3977 - val_loss: 0.2509 - val_mae: 0.3813\n",
      "Epoch 56/69\n",
      "402788/402788 [==============================] - 137s 341us/step - loss: 0.2676 - mae: 0.3978 - val_loss: 0.2519 - val_mae: 0.3819\n",
      "Epoch 57/69\n",
      "402788/402788 [==============================] - 137s 340us/step - loss: 0.2675 - mae: 0.3977 - val_loss: 0.2546 - val_mae: 0.3825\n",
      "Epoch 58/69\n",
      "402788/402788 [==============================] - 137s 340us/step - loss: 0.2677 - mae: 0.3978 - val_loss: 0.2524 - val_mae: 0.3905\n",
      "Epoch 59/69\n",
      "402788/402788 [==============================] - 137s 341us/step - loss: 0.2676 - mae: 0.3978 - val_loss: 0.2482 - val_mae: 0.3838\n",
      "Epoch 60/69\n",
      "402788/402788 [==============================] - 138s 342us/step - loss: 0.2675 - mae: 0.3977 - val_loss: 0.2492 - val_mae: 0.3834\n",
      "Epoch 61/69\n",
      "402788/402788 [==============================] - 138s 343us/step - loss: 0.2675 - mae: 0.3977 - val_loss: 0.2624 - val_mae: 0.3963\n",
      "Epoch 62/69\n",
      "402788/402788 [==============================] - 137s 341us/step - loss: 0.2676 - mae: 0.3977 - val_loss: 0.2515 - val_mae: 0.3857\n",
      "Epoch 63/69\n",
      "402788/402788 [==============================] - 137s 339us/step - loss: 0.2676 - mae: 0.3977 - val_loss: 0.2565 - val_mae: 0.3835\n",
      "Epoch 64/69\n",
      "402788/402788 [==============================] - 137s 339us/step - loss: 0.2676 - mae: 0.3978 - val_loss: 0.2498 - val_mae: 0.3867\n",
      "Epoch 65/69\n",
      "402788/402788 [==============================] - 137s 340us/step - loss: 0.2676 - mae: 0.3978 - val_loss: 0.2579 - val_mae: 0.3969\n",
      "Epoch 66/69\n",
      "402788/402788 [==============================] - 136s 339us/step - loss: 0.2676 - mae: 0.3977 - val_loss: 0.2555 - val_mae: 0.3857\n",
      "Epoch 67/69\n",
      "402788/402788 [==============================] - 137s 341us/step - loss: 0.2676 - mae: 0.3978 - val_loss: 0.3671 - val_mae: 0.4640\n",
      "Epoch 68/69\n",
      "402788/402788 [==============================] - 137s 341us/step - loss: 0.2677 - mae: 0.3978 - val_loss: 0.2927 - val_mae: 0.4284\n",
      "Epoch 69/69\n",
      "402788/402788 [==============================] - 138s 342us/step - loss: 0.2676 - mae: 0.3977 - val_loss: 0.2667 - val_mae: 0.3898\n"
     ]
    }
   ],
   "source": [
    "single_nn = neural_net(\n",
    "    x_train,\n",
    "    y_train,\n",
    "    learning_rate = 0.05,\n",
    "    n_hidden_units = n_hidden_units,\n",
    "    epochs = epochs,\n",
    "    validation_data = (x_dev, y_dev)\n",
    ")"
   ]
  },
  {
   "cell_type": "code",
   "execution_count": 10,
   "metadata": {},
   "outputs": [
    {
     "name": "stdout",
     "output_type": "stream",
     "text": [
      "Model: \"sequential\"\n",
      "_________________________________________________________________\n",
      " Layer (type)                Output Shape              Param #   \n",
      "=================================================================\n",
      " dense (Dense)               (None, 12)                288       \n",
      "                                                                 \n",
      " batch_normalization (Batch  (None, 12)                48        \n",
      " Normalization)                                                  \n",
      "                                                                 \n",
      " activation (Activation)     (None, 12)                0         \n",
      "                                                                 \n",
      " dense_1 (Dense)             (None, 1)                 13        \n",
      "                                                                 \n",
      "=================================================================\n",
      "Total params: 349 (1.36 KB)\n",
      "Trainable params: 325 (1.27 KB)\n",
      "Non-trainable params: 24 (96.00 Byte)\n",
      "_________________________________________________________________\n"
     ]
    }
   ],
   "source": [
    "single_nn.summary()"
   ]
  },
  {
   "cell_type": "markdown",
   "metadata": {},
   "source": [
    "### Deep Neural Network\n",
    "\n",
    "The full model is specified as a deep neural network using layers with ReLU activation functions with a linear activation in the output layer. The choice of number of layers was initially kept small due to computational processing constraints."
   ]
  },
  {
   "cell_type": "code",
   "execution_count": 11,
   "metadata": {},
   "outputs": [
    {
     "name": "stderr",
     "output_type": "stream",
     "text": [
      "WARNING:absl:At this time, the v2.11+ optimizer `tf.keras.optimizers.Adam` runs slowly on M1/M2 Macs, please use the legacy Keras optimizer instead, located at `tf.keras.optimizers.legacy.Adam`.\n"
     ]
    },
    {
     "name": "stdout",
     "output_type": "stream",
     "text": [
      "Epoch 1/69\n",
      "402788/402788 [==============================] - 387s 956us/step - loss: 0.2236 - mae: 0.3526 - val_loss: 0.1914 - val_mae: 0.3434\n",
      "Epoch 2/69\n",
      "402788/402788 [==============================] - 384s 954us/step - loss: 0.1968 - mae: 0.3401 - val_loss: 0.1828 - val_mae: 0.3235\n",
      "Epoch 3/69\n",
      "402788/402788 [==============================] - 384s 953us/step - loss: 0.1953 - mae: 0.3387 - val_loss: 0.1831 - val_mae: 0.3302\n",
      "Epoch 4/69\n",
      "402788/402788 [==============================] - 385s 956us/step - loss: 0.1947 - mae: 0.3382 - val_loss: 0.1846 - val_mae: 0.3309\n",
      "Epoch 5/69\n",
      "402788/402788 [==============================] - 386s 957us/step - loss: 0.1941 - mae: 0.3376 - val_loss: 0.1826 - val_mae: 0.3239\n",
      "Epoch 6/69\n",
      "402788/402788 [==============================] - 386s 958us/step - loss: 0.1939 - mae: 0.3375 - val_loss: 0.1813 - val_mae: 0.3251\n",
      "Epoch 7/69\n",
      "402788/402788 [==============================] - 386s 958us/step - loss: 0.1937 - mae: 0.3372 - val_loss: 0.1854 - val_mae: 0.3319\n",
      "Epoch 8/69\n",
      "402788/402788 [==============================] - 386s 959us/step - loss: 0.1936 - mae: 0.3371 - val_loss: 0.1843 - val_mae: 0.3315\n",
      "Epoch 9/69\n",
      "402788/402788 [==============================] - 386s 959us/step - loss: 0.1933 - mae: 0.3369 - val_loss: 0.1805 - val_mae: 0.3233\n",
      "Epoch 10/69\n",
      "402788/402788 [==============================] - 384s 953us/step - loss: 0.1932 - mae: 0.3368 - val_loss: 0.1821 - val_mae: 0.3248\n",
      "Epoch 11/69\n",
      "402788/402788 [==============================] - 382s 948us/step - loss: 0.1930 - mae: 0.3367 - val_loss: 0.1817 - val_mae: 0.3229\n",
      "Epoch 12/69\n",
      "402788/402788 [==============================] - 384s 952us/step - loss: 0.1929 - mae: 0.3365 - val_loss: 0.1958 - val_mae: 0.3378\n",
      "Epoch 13/69\n",
      "402788/402788 [==============================] - 384s 952us/step - loss: 0.1928 - mae: 0.3364 - val_loss: 0.1824 - val_mae: 0.3234\n",
      "Epoch 14/69\n",
      "402788/402788 [==============================] - 384s 953us/step - loss: 0.1927 - mae: 0.3363 - val_loss: 0.1835 - val_mae: 0.3227\n",
      "Epoch 15/69\n",
      "402788/402788 [==============================] - 380s 944us/step - loss: 0.1925 - mae: 0.3361 - val_loss: 0.1835 - val_mae: 0.3243\n",
      "Epoch 16/69\n",
      "402788/402788 [==============================] - 381s 945us/step - loss: 0.1925 - mae: 0.3361 - val_loss: 0.1887 - val_mae: 0.3399\n",
      "Epoch 17/69\n",
      "402788/402788 [==============================] - 384s 954us/step - loss: 0.1924 - mae: 0.3361 - val_loss: 0.1815 - val_mae: 0.3253\n",
      "Epoch 18/69\n",
      "402788/402788 [==============================] - 383s 950us/step - loss: 0.1923 - mae: 0.3359 - val_loss: 0.1815 - val_mae: 0.3295\n",
      "Epoch 19/69\n",
      "402788/402788 [==============================] - 384s 952us/step - loss: 0.1922 - mae: 0.3359 - val_loss: 0.2005 - val_mae: 0.3406\n",
      "Epoch 20/69\n",
      "402788/402788 [==============================] - 384s 954us/step - loss: 0.1921 - mae: 0.3359 - val_loss: 0.1816 - val_mae: 0.3253\n",
      "Epoch 21/69\n",
      "402788/402788 [==============================] - 388s 964us/step - loss: 0.1921 - mae: 0.3358 - val_loss: 0.1833 - val_mae: 0.3272\n",
      "Epoch 22/69\n",
      "402788/402788 [==============================] - 388s 964us/step - loss: 0.1921 - mae: 0.3357 - val_loss: 0.1807 - val_mae: 0.3247\n",
      "Epoch 23/69\n",
      "402788/402788 [==============================] - 387s 962us/step - loss: 0.1921 - mae: 0.3358 - val_loss: 0.1917 - val_mae: 0.3398\n",
      "Epoch 24/69\n",
      "402788/402788 [==============================] - 385s 955us/step - loss: 0.1920 - mae: 0.3357 - val_loss: 0.1825 - val_mae: 0.3240\n",
      "Epoch 25/69\n",
      "402788/402788 [==============================] - 383s 952us/step - loss: 0.1919 - mae: 0.3356 - val_loss: 0.1817 - val_mae: 0.3260\n",
      "Epoch 26/69\n",
      "402788/402788 [==============================] - 383s 951us/step - loss: 0.1919 - mae: 0.3356 - val_loss: 0.1851 - val_mae: 0.3240\n",
      "Epoch 27/69\n",
      "402788/402788 [==============================] - 383s 951us/step - loss: 0.1918 - mae: 0.3355 - val_loss: 0.1806 - val_mae: 0.3269\n",
      "Epoch 28/69\n",
      "402788/402788 [==============================] - 383s 952us/step - loss: 0.1917 - mae: 0.3354 - val_loss: 0.1808 - val_mae: 0.3249\n",
      "Epoch 29/69\n",
      "402788/402788 [==============================] - 376s 934us/step - loss: 0.1917 - mae: 0.3355 - val_loss: 0.1971 - val_mae: 0.3475\n",
      "Epoch 30/69\n",
      "402788/402788 [==============================] - 377s 936us/step - loss: 0.1917 - mae: 0.3354 - val_loss: 0.1871 - val_mae: 0.3370\n",
      "Epoch 31/69\n",
      "402788/402788 [==============================] - 377s 935us/step - loss: 0.1916 - mae: 0.3354 - val_loss: 0.1804 - val_mae: 0.3273\n",
      "Epoch 32/69\n",
      "402788/402788 [==============================] - 377s 936us/step - loss: 0.1916 - mae: 0.3354 - val_loss: 0.1894 - val_mae: 0.3367\n",
      "Epoch 33/69\n",
      "402788/402788 [==============================] - 379s 941us/step - loss: 0.1916 - mae: 0.3354 - val_loss: 0.1803 - val_mae: 0.3234\n",
      "Epoch 34/69\n",
      "402788/402788 [==============================] - 380s 943us/step - loss: 0.1915 - mae: 0.3353 - val_loss: 0.1806 - val_mae: 0.3230\n",
      "Epoch 35/69\n",
      "402788/402788 [==============================] - 380s 945us/step - loss: 0.1915 - mae: 0.3353 - val_loss: 0.1816 - val_mae: 0.3250\n",
      "Epoch 36/69\n",
      "402788/402788 [==============================] - 379s 942us/step - loss: 0.1915 - mae: 0.3352 - val_loss: 0.1848 - val_mae: 0.3232\n",
      "Epoch 37/69\n",
      "402788/402788 [==============================] - 380s 944us/step - loss: 0.1914 - mae: 0.3352 - val_loss: 0.1887 - val_mae: 0.3363\n",
      "Epoch 38/69\n",
      "402788/402788 [==============================] - 380s 943us/step - loss: 0.1914 - mae: 0.3352 - val_loss: 0.1808 - val_mae: 0.3245\n",
      "Epoch 39/69\n",
      "402788/402788 [==============================] - 379s 941us/step - loss: 0.1913 - mae: 0.3351 - val_loss: 0.1803 - val_mae: 0.3264\n",
      "Epoch 40/69\n",
      "402788/402788 [==============================] - 380s 942us/step - loss: 0.1914 - mae: 0.3351 - val_loss: 0.1793 - val_mae: 0.3233\n",
      "Epoch 41/69\n",
      "402788/402788 [==============================] - 379s 942us/step - loss: 0.1913 - mae: 0.3351 - val_loss: 0.1850 - val_mae: 0.3251\n",
      "Epoch 42/69\n",
      "402788/402788 [==============================] - 379s 942us/step - loss: 0.1912 - mae: 0.3350 - val_loss: 0.1800 - val_mae: 0.3251\n",
      "Epoch 43/69\n",
      "402788/402788 [==============================] - 383s 951us/step - loss: 0.1912 - mae: 0.3351 - val_loss: 0.1873 - val_mae: 0.3326\n",
      "Epoch 44/69\n",
      "402788/402788 [==============================] - 383s 950us/step - loss: 0.1912 - mae: 0.3350 - val_loss: 0.1881 - val_mae: 0.3258\n",
      "Epoch 45/69\n",
      "402788/402788 [==============================] - 384s 953us/step - loss: 0.1912 - mae: 0.3350 - val_loss: 0.1895 - val_mae: 0.3332\n",
      "Epoch 46/69\n",
      "402788/402788 [==============================] - 384s 952us/step - loss: 0.1912 - mae: 0.3350 - val_loss: 0.1813 - val_mae: 0.3252\n",
      "Epoch 47/69\n",
      "402788/402788 [==============================] - 385s 956us/step - loss: 0.1911 - mae: 0.3350 - val_loss: 0.1820 - val_mae: 0.3236\n",
      "Epoch 48/69\n",
      "402788/402788 [==============================] - 383s 951us/step - loss: 0.1911 - mae: 0.3349 - val_loss: 0.1864 - val_mae: 0.3242\n",
      "Epoch 49/69\n",
      "402788/402788 [==============================] - 383s 952us/step - loss: 0.1911 - mae: 0.3349 - val_loss: 0.1841 - val_mae: 0.3296\n",
      "Epoch 50/69\n",
      "402788/402788 [==============================] - 384s 953us/step - loss: 0.1910 - mae: 0.3348 - val_loss: 0.1841 - val_mae: 0.3265\n",
      "Epoch 51/69\n",
      "402788/402788 [==============================] - 384s 952us/step - loss: 0.1910 - mae: 0.3349 - val_loss: 0.1808 - val_mae: 0.3263\n",
      "Epoch 52/69\n",
      "402788/402788 [==============================] - 383s 950us/step - loss: 0.1910 - mae: 0.3348 - val_loss: 0.1844 - val_mae: 0.3231\n",
      "Epoch 53/69\n",
      "402788/402788 [==============================] - 380s 944us/step - loss: 0.1910 - mae: 0.3349 - val_loss: 0.1807 - val_mae: 0.3251\n",
      "Epoch 54/69\n",
      "402788/402788 [==============================] - 381s 947us/step - loss: 0.1909 - mae: 0.3348 - val_loss: 0.1830 - val_mae: 0.3238\n",
      "Epoch 55/69\n",
      "402788/402788 [==============================] - 380s 944us/step - loss: 0.1909 - mae: 0.3348 - val_loss: 0.1826 - val_mae: 0.3264\n",
      "Epoch 56/69\n",
      "402788/402788 [==============================] - 380s 944us/step - loss: 0.1909 - mae: 0.3347 - val_loss: 0.1822 - val_mae: 0.3286\n",
      "Epoch 57/69\n",
      "402788/402788 [==============================] - 383s 950us/step - loss: 0.1909 - mae: 0.3347 - val_loss: 0.1833 - val_mae: 0.3281\n",
      "Epoch 58/69\n",
      "402788/402788 [==============================] - 384s 954us/step - loss: 0.1909 - mae: 0.3347 - val_loss: 0.1800 - val_mae: 0.3238\n",
      "Epoch 59/69\n",
      "402788/402788 [==============================] - 384s 953us/step - loss: 0.1909 - mae: 0.3347 - val_loss: 0.1813 - val_mae: 0.3262\n",
      "Epoch 60/69\n",
      "402788/402788 [==============================] - 384s 953us/step - loss: 0.1909 - mae: 0.3347 - val_loss: 0.1820 - val_mae: 0.3284\n",
      "Epoch 61/69\n",
      "402788/402788 [==============================] - 384s 954us/step - loss: 0.1908 - mae: 0.3347 - val_loss: 0.1854 - val_mae: 0.3251\n",
      "Epoch 62/69\n",
      "402788/402788 [==============================] - 389s 967us/step - loss: 0.1909 - mae: 0.3347 - val_loss: 0.1832 - val_mae: 0.3274\n",
      "Epoch 63/69\n",
      "402788/402788 [==============================] - 391s 972us/step - loss: 0.1908 - mae: 0.3347 - val_loss: 0.1794 - val_mae: 0.3219\n",
      "Epoch 64/69\n",
      "402788/402788 [==============================] - 2098s 5ms/step - loss: 0.1908 - mae: 0.3347 - val_loss: 0.1822 - val_mae: 0.3259\n",
      "Epoch 65/69\n",
      "402788/402788 [==============================] - 386s 958us/step - loss: 0.1908 - mae: 0.3347 - val_loss: 0.1862 - val_mae: 0.3273\n",
      "Epoch 66/69\n",
      "402788/402788 [==============================] - 383s 950us/step - loss: 0.1907 - mae: 0.3346 - val_loss: 0.1800 - val_mae: 0.3233\n",
      "Epoch 67/69\n",
      "402788/402788 [==============================] - 388s 962us/step - loss: 0.1908 - mae: 0.3346 - val_loss: 0.1898 - val_mae: 0.3358\n",
      "Epoch 68/69\n",
      "402788/402788 [==============================] - 384s 955us/step - loss: 0.1908 - mae: 0.3347 - val_loss: 0.1815 - val_mae: 0.3258\n",
      "Epoch 69/69\n",
      "402788/402788 [==============================] - 388s 963us/step - loss: 0.1907 - mae: 0.3346 - val_loss: 0.1838 - val_mae: 0.3243\n"
     ]
    }
   ],
   "source": [
    "deep_nn = neural_net(\n",
    "    x_train,\n",
    "    y_train,\n",
    "    n_layers = 10,\n",
    "    n_hidden_units = n_hidden_units,\n",
    "    epochs = epochs,\n",
    "    validation_data = (x_dev, y_dev)\n",
    ")"
   ]
  },
  {
   "cell_type": "code",
   "execution_count": 12,
   "metadata": {},
   "outputs": [
    {
     "name": "stdout",
     "output_type": "stream",
     "text": [
      "Model: \"sequential_1\"\n",
      "_________________________________________________________________\n",
      " Layer (type)                Output Shape              Param #   \n",
      "=================================================================\n",
      " dense_2 (Dense)             (None, 12)                288       \n",
      "                                                                 \n",
      " batch_normalization_1 (Bat  (None, 12)                48        \n",
      " chNormalization)                                                \n",
      "                                                                 \n",
      " activation_1 (Activation)   (None, 12)                0         \n",
      "                                                                 \n",
      " dense_3 (Dense)             (None, 12)                156       \n",
      "                                                                 \n",
      " batch_normalization_2 (Bat  (None, 12)                48        \n",
      " chNormalization)                                                \n",
      "                                                                 \n",
      " activation_2 (Activation)   (None, 12)                0         \n",
      "                                                                 \n",
      " dense_4 (Dense)             (None, 12)                156       \n",
      "                                                                 \n",
      " batch_normalization_3 (Bat  (None, 12)                48        \n",
      " chNormalization)                                                \n",
      "                                                                 \n",
      " activation_3 (Activation)   (None, 12)                0         \n",
      "                                                                 \n",
      " dense_5 (Dense)             (None, 12)                156       \n",
      "                                                                 \n",
      " batch_normalization_4 (Bat  (None, 12)                48        \n",
      " chNormalization)                                                \n",
      "                                                                 \n",
      " activation_4 (Activation)   (None, 12)                0         \n",
      "                                                                 \n",
      " dense_6 (Dense)             (None, 12)                156       \n",
      "                                                                 \n",
      " batch_normalization_5 (Bat  (None, 12)                48        \n",
      " chNormalization)                                                \n",
      "                                                                 \n",
      " activation_5 (Activation)   (None, 12)                0         \n",
      "                                                                 \n",
      " dense_7 (Dense)             (None, 12)                156       \n",
      "                                                                 \n",
      " batch_normalization_6 (Bat  (None, 12)                48        \n",
      " chNormalization)                                                \n",
      "                                                                 \n",
      " activation_6 (Activation)   (None, 12)                0         \n",
      "                                                                 \n",
      " dense_8 (Dense)             (None, 12)                156       \n",
      "                                                                 \n",
      " batch_normalization_7 (Bat  (None, 12)                48        \n",
      " chNormalization)                                                \n",
      "                                                                 \n",
      " activation_7 (Activation)   (None, 12)                0         \n",
      "                                                                 \n",
      " dense_9 (Dense)             (None, 12)                156       \n",
      "                                                                 \n",
      " batch_normalization_8 (Bat  (None, 12)                48        \n",
      " chNormalization)                                                \n",
      "                                                                 \n",
      " activation_8 (Activation)   (None, 12)                0         \n",
      "                                                                 \n",
      " dense_10 (Dense)            (None, 12)                156       \n",
      "                                                                 \n",
      " batch_normalization_9 (Bat  (None, 12)                48        \n",
      " chNormalization)                                                \n",
      "                                                                 \n",
      " activation_9 (Activation)   (None, 12)                0         \n",
      "                                                                 \n",
      " dense_11 (Dense)            (None, 12)                156       \n",
      "                                                                 \n",
      " batch_normalization_10 (Ba  (None, 12)                48        \n",
      " tchNormalization)                                               \n",
      "                                                                 \n",
      " activation_10 (Activation)  (None, 12)                0         \n",
      "                                                                 \n",
      " dense_12 (Dense)            (None, 1)                 13        \n",
      "                                                                 \n",
      "=================================================================\n",
      "Total params: 2185 (8.54 KB)\n",
      "Trainable params: 1945 (7.60 KB)\n",
      "Non-trainable params: 240 (960.00 Byte)\n",
      "_________________________________________________________________\n"
     ]
    }
   ],
   "source": [
    "deep_nn.summary()"
   ]
  },
  {
   "cell_type": "markdown",
   "metadata": {},
   "source": [
    "## Results"
   ]
  },
  {
   "cell_type": "code",
   "execution_count": 17,
   "metadata": {},
   "outputs": [
    {
     "data": {
      "image/png": "[encoded data removed]",
      "text/plain": [
       "<Figure size 640x480 with 1 Axes>"
      ]
     },
     "metadata": {},
     "output_type": "display_data"
    }
   ],
   "source": [
    "nn_dict = {\n",
    "    # 'NN - 1 layer': single_nn.history.history['loss'],\n",
    "    'NN - 10 layers': deep_nn.history.history['loss']\n",
    "}\n",
    "baseline_dict = {\n",
    "    'Random Forest': rfr_mse,\n",
    "    # 'Random Forest (tuned)': rfr_t_mse,\n",
    "    'XGBoost': xgb_mse\n",
    "}\n",
    "\n",
    "generate_plot(nn_dict, baseline_dict, save=False, name='model_mse_240206.png')"
   ]
  },
  {
   "cell_type": "markdown",
   "metadata": {},
   "source": [
    "### Calculating marginal valuation of environmental attributes\n",
    "\n",
    "Once we have a model with environmental attributes as features and log of house price as the target variable, we can begin to construct the marginal willingness to pay for environmental attributes, and therefore get a proxy for their value.\n",
    "\n",
    "The partial derivative of `ln_price` w.r.t an input variable can be evaluated during the backwards propagation stage of the model fitting. By evaluating this derivative at a variety of samples, we can plot a valulation curve for the change in $ln(price)$ for a change in the input feature by 1 standard deviation."
   ]
  },
  {
   "cell_type": "code",
   "execution_count": 19,
   "metadata": {},
   "outputs": [
    {
     "data": {
      "image/png": "[encoded data removed]",
      "text/plain": [
       "<Figure size 640x480 with 1 Axes>"
      ]
     },
     "metadata": {},
     "output_type": "display_data"
    }
   ],
   "source": [
    "# extract the gradients from the model\n",
    "points = np.arange(-3, 4, 1)\n",
    "gradients = calc_partial_grad(\n",
    "    deep_nn,\n",
    "    x_dev,\n",
    "    derivative_index,\n",
    "    points)\n",
    "\n",
    "plot_partial_grads(gradients, points, derivative_index, save=False, name='partial_grads_240206.png')"
   ]
  },
  {
   "cell_type": "markdown",
   "metadata": {},
   "source": [
    "### Saving models\n",
    "\n",
    "Here we save the pre-trained models so they can be loaded and used."
   ]
  },
  {
   "cell_type": "code",
   "execution_count": 15,
   "metadata": {},
   "outputs": [
    {
     "data": {
      "text/plain": [
       "['/Users/Felix_Gallagher/Dev/GitHub_personal/GreenValueNet/outputs/models/xgboost.joblib']"
      ]
     },
     "execution_count": 15,
     "metadata": {},
     "output_type": "execute_result"
    }
   ],
   "source": [
    "model_dir = cwd / \"outputs\" / \"models\"\n",
    "\n",
    "# save models as tensor objects\n",
    "deep_nn.save(model_dir / \"nn_layers_10.keras\")\n",
    "single_nn.save(model_dir / \"nn_layers_1.keras\")\n",
    "\n",
    "# save models as joblib files\n",
    "joblib.dump(xgb_model, model_dir / \"xgboost.joblib\")"
   ]
  }
 ],
 "metadata": {
  "kernelspec": {
   "display_name": "Python 3",
   "language": "python",
   "name": "python3"
  },
  "language_info": {
   "codemirror_mode": {
    "name": "ipython",
    "version": 3
   },
   "file_extension": ".py",
   "mimetype": "text/x-python",
   "name": "python",
   "nbconvert_exporter": "python",
   "pygments_lexer": "ipython3",
   "version": "3.10.13"
  },
  "orig_nbformat": 4
 },
 "nbformat": 4,
 "nbformat_minor": 2
}
