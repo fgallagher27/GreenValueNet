{
 "cells": [
  {
   "cell_type": "markdown",
   "metadata": {},
   "source": [
    "# GreenValueNet\n",
    "\n",
    "This notebook contains the code needed to execute the GreenValueNet hedonic pricing neural network. "
   ]
  },
  {
   "cell_type": "code",
   "execution_count": 32,
   "metadata": {},
   "outputs": [
    {
     "name": "stdout",
     "output_type": "stream",
     "text": [
      "{'chunksize': 100000, 'spatial_dict': {'coastline': {'folder': 'processed_inputs', 'file': 'coastline.shp'}, 'prim_school': {'folder': 'processed_inputs', 'file': 'primary_school.shp'}, 'sec_school': {'folder': 'processed_inputs', 'file': 'secondary_school.shp'}, 'roads': {'folder': 'processed_inputs', 'file': 'roads_c.shp'}, 'nat_park': {'folder': 'raw_inputs', 'file': 'National_Parks_(England)___Natural_England.shp'}, 'nat_trust': {'folder': 'raw_inputs', 'file': 'NT_Land_Always_Open.shp'}, 'rail_station': {'folder': 'raw_inputs', 'file': 'Railway_Stations.shp'}, 'ttwa': {'folder': 'raw_inputs', 'file': 'TTWA2011.shp'}}, 'pre_processing': {'postcodes': {'file_name': 'postcodes_c.shp', 'func': 'concat_postcodes'}, 'roads': {'file_name': 'roads_c.shp', 'func': 'concat_roads'}, 'coastline': {'file_name': 'coastline.shp', 'func': 'make_coastline'}, 'mapped_postcodes': {'processed_file': 'mapped_postcodes.shp'}}, 'house_prices': {'processed_file': 'house_prices_c.csv'}, 'spatial_attributes': {'processed_file': 'spatial_attributes_c.csv'}}\n"
     ]
    }
   ],
   "source": [
    "import os\n",
    "import pandas as pd\n",
    "import geopandas as gpd\n",
    "from shapely.geometry import Point\n",
    "from pathlib import Path\n",
    "from data_load_funcs import get_params, load_data_catalogue\n",
    "from processing_funcs import process_data, normalise_values\n",
    "\n",
    "cwd = Path.cwd()\n",
    "params = get_params()\n",
    "data_catalogue = load_data_catalogue()\n",
    "print(params)\n",
    "\n",
    "# check inputs func\n",
    "# checks for processed file\n",
    "# if not creates at highest level\n",
    "# if not those goes back\n",
    "# does again until raw files are checked\n",
    "\n",
    "# in process_data, either load it in, or create it\n",
    "# in process_housing_data, either load it in, or create it\n",
    "# same in spatial data\n"
   ]
  },
  {
   "cell_type": "code",
   "execution_count": 33,
   "metadata": {},
   "outputs": [
    {
     "ename": "TypeError",
     "evalue": "unsupported operand type(s) for /: 'WindowsPath' and 'dict'",
     "output_type": "error",
     "traceback": [
      "\u001b[1;31m---------------------------------------------------------------------------\u001b[0m",
      "\u001b[1;31mTypeError\u001b[0m                                 Traceback (most recent call last)",
      "Cell \u001b[1;32mIn[33], line 1\u001b[0m\n\u001b[1;32m----> 1\u001b[0m dataset \u001b[39m=\u001b[39m process_data(data_catalogue, params)\n\u001b[0;32m      3\u001b[0m \u001b[39m# print summary stats table here\u001b[39;00m\n\u001b[0;32m      4\u001b[0m \u001b[39m# extract norm cols from params\u001b[39;00m\n\u001b[0;32m      5\u001b[0m \u001b[39m# for col in norm_cols:\u001b[39;00m\n\u001b[0;32m      6\u001b[0m \u001b[39m#     dataset[col] = normalise_values(dataset[col])\u001b[39;00m\n",
      "File \u001b[1;32mc:\\GitHub personal\\GreenValueNet\\processing_funcs.py:27\u001b[0m, in \u001b[0;36mprocess_data\u001b[1;34m(catalogue, params)\u001b[0m\n\u001b[0;32m     23\u001b[0m \u001b[39m\u001b[39m\u001b[39m\"\"\"\u001b[39;00m\n\u001b[0;32m     24\u001b[0m \u001b[39mThis function processes the input data\u001b[39;00m\n\u001b[0;32m     25\u001b[0m \u001b[39m\"\"\"\u001b[39;00m\n\u001b[0;32m     26\u001b[0m path \u001b[39m=\u001b[39m cwd \u001b[39m/\u001b[39m \u001b[39m\"\u001b[39m\u001b[39mdata\u001b[39m\u001b[39m\"\u001b[39m \u001b[39m/\u001b[39m \u001b[39m\"\u001b[39m\u001b[39minterim_files\u001b[39m\u001b[39m\"\u001b[39m \u001b[39m/\u001b[39m catalogue[\u001b[39m'\u001b[39m\u001b[39minterim_files\u001b[39m\u001b[39m'\u001b[39m][\u001b[39m'\u001b[39m\u001b[39mdataset\u001b[39m\u001b[39m'\u001b[39m]\n\u001b[1;32m---> 27\u001b[0m \u001b[39mif\u001b[39;00m os\u001b[39m.\u001b[39mpath\u001b[39m.\u001b[39mexists(path):\n\u001b[0;32m     28\u001b[0m     \u001b[39mprint\u001b[39m(\u001b[39m\"\u001b[39m\u001b[39mProcessed dataset already exists.\u001b[39m\u001b[39m\\n\u001b[39;00m\u001b[39mLoading exisitng dataset...\u001b[39m\u001b[39m\"\u001b[39m)\n\u001b[0;32m     29\u001b[0m     df \u001b[39m=\u001b[39m pd\u001b[39m.\u001b[39mread_csv(path)\n",
      "\u001b[1;31mTypeError\u001b[0m: unsupported operand type(s) for /: 'WindowsPath' and 'dict'"
     ]
    }
   ],
   "source": [
    "dataset = process_data(data_catalogue, params)\n",
    "\n",
    "# print summary stats table here\n",
    "# extract norm cols from params\n",
    "# for col in norm_cols:\n",
    "#     dataset[col] = normalise_values(dataset[col])"
   ]
  }
 ],
 "metadata": {
  "kernelspec": {
   "display_name": "Python 3",
   "language": "python",
   "name": "python3"
  },
  "language_info": {
   "codemirror_mode": {
    "name": "ipython",
    "version": 3
   },
   "file_extension": ".py",
   "mimetype": "text/x-python",
   "name": "python",
   "nbconvert_exporter": "python",
   "pygments_lexer": "ipython3",
   "version": "3.10.1"
  },
  "orig_nbformat": 4
 },
 "nbformat": 4,
 "nbformat_minor": 2
}
