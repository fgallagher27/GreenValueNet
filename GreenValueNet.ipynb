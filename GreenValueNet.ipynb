{
 "cells": [
  {
   "cell_type": "markdown",
   "metadata": {},
   "source": [
    "# GreenValueNet"
   ]
  },
  {
   "cell_type": "code",
   "execution_count": 2,
   "metadata": {},
   "outputs": [
    {
     "name": "stdout",
     "output_type": "stream",
     "text": [
      "{'pre_processing': {'postcodes': {'file_name': 'postcodes_c.shp', 'func': 'concat_postcodes'}, 'roads': {'file_name': 'roads_c.shp', 'func': 'concat_roads'}, 'coastline': {'file_name': 'coastline.shp', 'func': 'make_coastline'}}, 'house_prices': {'processed_file': 'house_prices_c.csv'}, 'spatial_attributes': {'processed_file': 'spatial_attributes_c.csv'}}\n"
     ]
    }
   ],
   "source": [
    "import os\n",
    "import pandas as pd\n",
    "import geopandas as gpd\n",
    "from shapely.geometry import Point\n",
    "from pathlib import Path\n",
    "from data_load_funcs import get_params, load_data_catalogue\n",
    "from processing_funcs import process_data\n",
    "\n",
    "cwd = Path.cwd()\n",
    "params = get_params()\n",
    "data_catalogue = load_data_catalogue()\n",
    "print(params)\n",
    "\n",
    "# check inputs func\n",
    "# checks for processed file\n",
    "# if not creates at highest level\n",
    "# if not those goes back\n",
    "# does again until raw files are checked\n",
    "\n",
    "# in process_data, either load it in, or create it\n",
    "# in process_housing_data, either load it in, or create it\n",
    "# same in spatial data\n"
   ]
  },
  {
   "cell_type": "code",
   "execution_count": null,
   "metadata": {},
   "outputs": [],
   "source": [
    "dataset = process_data(data_catalogue, params)"
   ]
  }
 ],
 "metadata": {
  "kernelspec": {
   "display_name": "Python 3",
   "language": "python",
   "name": "python3"
  },
  "language_info": {
   "codemirror_mode": {
    "name": "ipython",
    "version": 3
   },
   "file_extension": ".py",
   "mimetype": "text/x-python",
   "name": "python",
   "nbconvert_exporter": "python",
   "pygments_lexer": "ipython3",
   "version": "3.10.1"
  },
  "orig_nbformat": 4
 },
 "nbformat": 4,
 "nbformat_minor": 2
}
